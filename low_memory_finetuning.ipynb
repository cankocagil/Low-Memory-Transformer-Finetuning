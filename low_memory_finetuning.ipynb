{
  "cells": [
    {
      "cell_type": "markdown",
      "source": [
        "# Installations"
      ],
      "metadata": {
        "nteract": {
          "transient": {
            "deleting": false
          }
        }
      }
    },
    {
      "cell_type": "code",
      "source": [
        "!pip install transformers"
      ],
      "outputs": [
        {
          "output_type": "stream",
          "name": "stdout",
          "text": "Requirement already satisfied: transformers in /anaconda/envs/azureml_py36/lib/python3.6/site-packages (4.9.2)\nRequirement already satisfied: huggingface-hub==0.0.12 in /anaconda/envs/azureml_py36/lib/python3.6/site-packages (from transformers) (0.0.12)\nRequirement already satisfied: filelock in /anaconda/envs/azureml_py36/lib/python3.6/site-packages (from transformers) (3.0.12)\nRequirement already satisfied: packaging in /anaconda/envs/azureml_py36/lib/python3.6/site-packages (from transformers) (21.0)\nRequirement already satisfied: tokenizers<0.11,>=0.10.1 in /anaconda/envs/azureml_py36/lib/python3.6/site-packages (from transformers) (0.10.3)\nRequirement already satisfied: pyyaml>=5.1 in /anaconda/envs/azureml_py36/lib/python3.6/site-packages (from transformers) (5.4.1)\nRequirement already satisfied: requests in /anaconda/envs/azureml_py36/lib/python3.6/site-packages (from transformers) (2.26.0)\nRequirement already satisfied: dataclasses; python_version < \"3.7\" in /anaconda/envs/azureml_py36/lib/python3.6/site-packages (from transformers) (0.8)\nRequirement already satisfied: tqdm>=4.27 in /anaconda/envs/azureml_py36/lib/python3.6/site-packages (from transformers) (4.61.2)\nRequirement already satisfied: importlib-metadata; python_version < \"3.8\" in /anaconda/envs/azureml_py36/lib/python3.6/site-packages (from transformers) (4.6.1)\nRequirement already satisfied: sacremoses in /anaconda/envs/azureml_py36/lib/python3.6/site-packages (from transformers) (0.0.45)\nRequirement already satisfied: regex!=2019.12.17 in /anaconda/envs/azureml_py36/lib/python3.6/site-packages (from transformers) (2021.7.6)\nRequirement already satisfied: numpy>=1.17 in /anaconda/envs/azureml_py36/lib/python3.6/site-packages (from transformers) (1.18.5)\nRequirement already satisfied: typing-extensions in /anaconda/envs/azureml_py36/lib/python3.6/site-packages (from huggingface-hub==0.0.12->transformers) (3.10.0.0)\nRequirement already satisfied: pyparsing>=2.0.2 in /anaconda/envs/azureml_py36/lib/python3.6/site-packages (from packaging->transformers) (2.4.7)\nRequirement already satisfied: certifi>=2017.4.17 in /anaconda/envs/azureml_py36/lib/python3.6/site-packages (from requests->transformers) (2021.5.30)\nRequirement already satisfied: charset-normalizer~=2.0.0; python_version >= \"3\" in /anaconda/envs/azureml_py36/lib/python3.6/site-packages (from requests->transformers) (2.0.3)\nRequirement already satisfied: urllib3<1.27,>=1.21.1 in /anaconda/envs/azureml_py36/lib/python3.6/site-packages (from requests->transformers) (1.25.11)\nRequirement already satisfied: idna<4,>=2.5; python_version >= \"3\" in /anaconda/envs/azureml_py36/lib/python3.6/site-packages (from requests->transformers) (3.2)\nRequirement already satisfied: zipp>=0.5 in /anaconda/envs/azureml_py36/lib/python3.6/site-packages (from importlib-metadata; python_version < \"3.8\"->transformers) (3.5.0)\nRequirement already satisfied: click in /anaconda/envs/azureml_py36/lib/python3.6/site-packages (from sacremoses->transformers) (8.0.1)\nRequirement already satisfied: joblib in /anaconda/envs/azureml_py36/lib/python3.6/site-packages (from sacremoses->transformers) (0.14.1)\nRequirement already satisfied: six in /anaconda/envs/azureml_py36/lib/python3.6/site-packages (from sacremoses->transformers) (1.16.0)\n"
        }
      ],
      "execution_count": 11,
      "metadata": {
        "collapsed": true,
        "jupyter": {
          "source_hidden": false,
          "outputs_hidden": false
        },
        "nteract": {
          "transient": {
            "deleting": false
          }
        }
      }
    },
    {
      "cell_type": "markdown",
      "source": [
        "# GPU Debugging"
      ],
      "metadata": {
        "nteract": {
          "transient": {
            "deleting": false
          }
        }
      }
    },
    {
      "cell_type": "code",
      "source": [
        "!nvidia-smi"
      ],
      "outputs": [
        {
          "output_type": "stream",
          "name": "stdout",
          "text": "Fri Aug 27 11:46:00 2021       \r\n+-----------------------------------------------------------------------------+\r\n| NVIDIA-SMI 470.57.02    Driver Version: 470.57.02    CUDA Version: 11.4     |\r\n|-------------------------------+----------------------+----------------------+\r\n| GPU  Name        Persistence-M| Bus-Id        Disp.A | Volatile Uncorr. ECC |\r\n| Fan  Temp  Perf  Pwr:Usage/Cap|         Memory-Usage | GPU-Util  Compute M. |\r\n|                               |                      |               MIG M. |\r\n|===============================+======================+======================|\r\n|   0  Tesla K80           On   | 00000001:00:00.0 Off |                    0 |\r\n| N/A   37C    P8    27W / 149W |      0MiB / 11441MiB |      0%      Default |\r\n|                               |                      |                  N/A |\r\n+-------------------------------+----------------------+----------------------+\r\n                                                                               \r\n+-----------------------------------------------------------------------------+\r\n| Processes:                                                                  |\r\n|  GPU   GI   CI        PID   Type   Process name                  GPU Memory |\r\n|        ID   ID                                                   Usage      |\r\n|=============================================================================|\r\n|  No running processes found                                                 |\r\n+-----------------------------------------------------------------------------+\r\n"
        }
      ],
      "execution_count": 1,
      "metadata": {
        "collapsed": true,
        "jupyter": {
          "source_hidden": false,
          "outputs_hidden": false
        },
        "nteract": {
          "transient": {
            "deleting": false
          }
        }
      }
    },
    {
      "cell_type": "markdown",
      "source": [
        "# Imports"
      ],
      "metadata": {
        "nteract": {
          "transient": {
            "deleting": false
          }
        }
      }
    },
    {
      "cell_type": "code",
      "source": [
        "\n",
        "import numpy as np\n",
        "import os\n",
        "import random\n",
        "import glob\n",
        "from tqdm import tqdm\n",
        "import logging\n",
        "import os\n",
        "import pickle\n",
        "\n",
        "import torch\n",
        "import torch.nn as nn\n",
        "from torch.utils.data import DataLoader, Dataset, RandomSampler, SequentialSampler\n",
        "\n",
        "import transformers\n",
        "from transformers import (\n",
        "    GPT2Config,\n",
        "    GPT2LMHeadModel,\n",
        "    GPT2PreTrainedModel,\n",
        "    GPT2Tokenizer,\n",
        "    PreTrainedModel,\n",
        "    PreTrainedTokenizer,\n",
        "    AdamW, \n",
        "    get_linear_schedule_with_warmup\n",
        ")\n",
        "\n",
        "torch.autograd.set_detect_anomaly(False)\n",
        "torch.autograd.profiler.profile(False)\n",
        "torch.autograd.profiler.emit_nvtx(False)\n",
        "torch.backends.cudnn.benchmark = True"
      ],
      "outputs": [],
      "execution_count": 1,
      "metadata": {
        "gather": {
          "logged": 1633621787492
        }
      }
    },
    {
      "cell_type": "markdown",
      "source": [
        "# GPU Info"
      ],
      "metadata": {
        "nteract": {
          "transient": {
            "deleting": false
          }
        }
      }
    },
    {
      "cell_type": "code",
      "source": [
        "# Returns device name:\n",
        "print(f\"{torch.cuda.get_device_name(0)} is using as a GPU \")\n",
        "\n",
        "# Returns the current GPU memory usage by tensors in bytes for a given device\n",
        "print(f\"CUDA memory allocation in bytes: {torch.cuda.memory_allocated()}\")\n",
        "\n",
        "# Returns the current GPU memory managed by the caching allocator in bytes for a given device\n",
        "print(f\"CUDA Caching allocation in bytes: {torch.cuda.memory_cached()}\")\n",
        "\n",
        "# GPU Summary\n",
        "print(torch.cuda.memory_summary(device=None, abbreviated=False))"
      ],
      "outputs": [
        {
          "output_type": "stream",
          "name": "stdout",
          "text": "Tesla K80 is using as a GPU \nCUDA memory allocation in bytes: 0\nCUDA Caching allocation in bytes: 0\n|===========================================================================|\n|                  PyTorch CUDA memory summary, device ID 0                 |\n|---------------------------------------------------------------------------|\n|            CUDA OOMs: 0            |        cudaMalloc retries: 0         |\n|===========================================================================|\n|        Metric         | Cur Usage  | Peak Usage | Tot Alloc  | Tot Freed  |\n|---------------------------------------------------------------------------|\n| Allocated memory      |       0 B  |       0 B  |       0 B  |       0 B  |\n|       from large pool |       0 B  |       0 B  |       0 B  |       0 B  |\n|       from small pool |       0 B  |       0 B  |       0 B  |       0 B  |\n|---------------------------------------------------------------------------|\n| Active memory         |       0 B  |       0 B  |       0 B  |       0 B  |\n|       from large pool |       0 B  |       0 B  |       0 B  |       0 B  |\n|       from small pool |       0 B  |       0 B  |       0 B  |       0 B  |\n|---------------------------------------------------------------------------|\n| GPU reserved memory   |       0 B  |       0 B  |       0 B  |       0 B  |\n|       from large pool |       0 B  |       0 B  |       0 B  |       0 B  |\n|       from small pool |       0 B  |       0 B  |       0 B  |       0 B  |\n|---------------------------------------------------------------------------|\n| Non-releasable memory |       0 B  |       0 B  |       0 B  |       0 B  |\n|       from large pool |       0 B  |       0 B  |       0 B  |       0 B  |\n|       from small pool |       0 B  |       0 B  |       0 B  |       0 B  |\n|---------------------------------------------------------------------------|\n| Allocations           |       0    |       0    |       0    |       0    |\n|       from large pool |       0    |       0    |       0    |       0    |\n|       from small pool |       0    |       0    |       0    |       0    |\n|---------------------------------------------------------------------------|\n| Active allocs         |       0    |       0    |       0    |       0    |\n|       from large pool |       0    |       0    |       0    |       0    |\n|       from small pool |       0    |       0    |       0    |       0    |\n|---------------------------------------------------------------------------|\n| GPU reserved segments |       0    |       0    |       0    |       0    |\n|       from large pool |       0    |       0    |       0    |       0    |\n|       from small pool |       0    |       0    |       0    |       0    |\n|---------------------------------------------------------------------------|\n| Non-releasable allocs |       0    |       0    |       0    |       0    |\n|       from large pool |       0    |       0    |       0    |       0    |\n|       from small pool |       0    |       0    |       0    |       0    |\n|===========================================================================|\n\n"
        },
        {
          "output_type": "stream",
          "name": "stderr",
          "text": "/anaconda/envs/azureml_py38/lib/python3.8/site-packages/torch/cuda/memory.py:373: FutureWarning: torch.cuda.memory_cached has been renamed to torch.cuda.memory_reserved\n  warnings.warn(\n"
        }
      ],
      "execution_count": 2,
      "metadata": {
        "collapsed": true,
        "jupyter": {
          "source_hidden": false,
          "outputs_hidden": false
        },
        "nteract": {
          "transient": {
            "deleting": false
          }
        },
        "gather": {
          "logged": 1633621816589
        }
      }
    },
    {
      "cell_type": "markdown",
      "source": [
        "# Path & Device Arrangement"
      ],
      "metadata": {
        "nteract": {
          "transient": {
            "deleting": false
          }
        }
      }
    },
    {
      "cell_type": "code",
      "source": [
        "# Storage path:\n",
        "output_dir = \"./storage/models\"\n",
        "assert os.path.isdir(output_dir), f\"{output_dir} could not found.\" \n",
        "\n",
        "# Device:\n",
        "device = torch.device('cuda') if torch.cuda.is_available() else torch.device('cpu')\n",
        "print(f\"{device} is using as a accelerator!\")\n",
        "\n",
        "# Script Path:\n",
        "love_script_name = \"data.txt\"\n",
        "data_dir = os.path.join(\"data\", love_script_name)"
      ],
      "outputs": [
        {
          "output_type": "stream",
          "name": "stdout",
          "text": "cuda is using as a accelerator!\n"
        }
      ],
      "execution_count": 10,
      "metadata": {
        "gather": {
          "logged": 1633621894450
        }
      }
    },
    {
      "cell_type": "markdown",
      "source": [
        "# Dataset "
      ],
      "metadata": {
        "nteract": {
          "transient": {
            "deleting": false
          }
        }
      }
    },
    {
      "cell_type": "code",
      "source": [
        "class ScriptData(Dataset):\n",
        "    \"\"\" MODEL_CLASSES = {\"gpt2\": (GPT2Config, GPT2LMHeadModel, GPT2Tokenizer)} \"\"\"\n",
        "    logger = logging.getLogger(__name__)\n",
        "\n",
        "    def __init__(\n",
        "        self,\n",
        "        tokenizer: PreTrainedTokenizer,\n",
        "        file_path: str,\n",
        "        block_size=512,\n",
        "        overwrite_cache=False,\n",
        "    ):\n",
        "        assert os.path.isfile(file_path)\n",
        "\n",
        "        block_size = block_size - (\n",
        "            tokenizer.model_max_length - tokenizer.max_len_single_sentence\n",
        "        )\n",
        "\n",
        "        directory, filename = os.path.split(file_path)\n",
        "\n",
        "        # change if args are added at later point\n",
        "        cached_features_file = os.path.join(\n",
        "            directory, \"gpt2\" + \"_\" + str(block_size) + \"_\" + filename\n",
        "        )\n",
        "\n",
        "        if os.path.exists(cached_features_file) and not overwrite_cache:\n",
        "            self.logger.info(\n",
        "                f\"Loading features from your cached file {cached_features_file}\"\n",
        "            )\n",
        "            with open(cached_features_file, \"rb\") as cache:\n",
        "                self.examples = pickle.load(cache)\n",
        "                self.logger.debug(\"Loaded examples from cache\")\n",
        "        else:\n",
        "            self.logger.info(f\"Creating features from file {filename} at {directory}\")\n",
        "\n",
        "            self.examples = []\n",
        "            with open(file_path, encoding=\"utf-8\") as f:\n",
        "                text = f.read()\n",
        "                self.logger.debug(\"Succesfully read text from file\")\n",
        "\n",
        "            tokenized_text = tokenizer.convert_tokens_to_ids(tokenizer.tokenize(text))\n",
        "\n",
        "            for i in range(0, len(tokenized_text) - block_size + 1, block_size):\n",
        "                self.examples.append(\n",
        "                    tokenizer.build_inputs_with_special_tokens(\n",
        "                        tokenized_text[i : i + block_size]\n",
        "                    )\n",
        "                )\n",
        "\n",
        "            self.logger.info(f\"Saving features into cached file {cached_features_file}\")\n",
        "            \n",
        "            with open(cached_features_file, \"wb\") as cache:\n",
        "                pickle.dump(self.examples, cache, protocol=pickle.HIGHEST_PROTOCOL)\n",
        "\n",
        "    def __len__(self):\n",
        "        return len(self.examples)\n",
        "\n",
        "    def __getitem__(self, item):\n",
        "        return torch.tensor(self.examples[item], dtype=torch.long)"
      ],
      "outputs": [],
      "execution_count": 11,
      "metadata": {
        "jupyter": {
          "source_hidden": false,
          "outputs_hidden": false
        },
        "nteract": {
          "transient": {
            "deleting": false
          }
        },
        "gather": {
          "logged": 1633621944404
        }
      }
    },
    {
      "cell_type": "markdown",
      "source": [
        "# Initializing GPT-2 from Storage or Web "
      ],
      "metadata": {
        "nteract": {
          "transient": {
            "deleting": false
          }
        }
      }
    },
    {
      "cell_type": "code",
      "source": [
        "gpt_models = {\n",
        "    'small'  : 'gpt2',\n",
        "    'medium' : 'gpt2-medium',\n",
        "    'large'  : 'gpt2-large',\n",
        "    'x-large': 'gpt2-xl'\n",
        "}\n",
        "\n",
        "\n",
        "\n",
        "init_gpt_path = gpt_models['small']\n",
        "print(f\"{init_gpt_path.upper()} model is using as a language model.\")\n",
        "\n",
        "tokenizer = GPT2Tokenizer.from_pretrained(init_gpt_path)\n",
        "model = GPT2LMHeadModel.from_pretrained(init_gpt_path)"
      ],
      "outputs": [
        {
          "output_type": "stream",
          "name": "stdout",
          "text": "GPT2 model is using as a language model.\n"
        },
        {
          "output_type": "display_data",
          "data": {
            "text/plain": "Downloading:   0%|          | 0.00/1.04M [00:00<?, ?B/s]",
            "application/vnd.jupyter.widget-view+json": {
              "version_major": 2,
              "version_minor": 0,
              "model_id": "ed4726dc029d419fb1cd3c0f8f0eaa73"
            }
          },
          "metadata": {}
        },
        {
          "output_type": "display_data",
          "data": {
            "text/plain": "Downloading:   0%|          | 0.00/456k [00:00<?, ?B/s]",
            "application/vnd.jupyter.widget-view+json": {
              "version_major": 2,
              "version_minor": 0,
              "model_id": "c9e684a0b4774ff5819eaf8316e55150"
            }
          },
          "metadata": {}
        },
        {
          "output_type": "display_data",
          "data": {
            "text/plain": "Downloading:   0%|          | 0.00/1.36M [00:00<?, ?B/s]",
            "application/vnd.jupyter.widget-view+json": {
              "version_major": 2,
              "version_minor": 0,
              "model_id": "89f1c22ed24d40348c5881da8cd8beff"
            }
          },
          "metadata": {}
        },
        {
          "output_type": "display_data",
          "data": {
            "text/plain": "Downloading:   0%|          | 0.00/665 [00:00<?, ?B/s]",
            "application/vnd.jupyter.widget-view+json": {
              "version_major": 2,
              "version_minor": 0,
              "model_id": "40c61e17fb8f433f91b09f2c41018276"
            }
          },
          "metadata": {}
        },
        {
          "output_type": "display_data",
          "data": {
            "text/plain": "Downloading:   0%|          | 0.00/548M [00:00<?, ?B/s]",
            "application/vnd.jupyter.widget-view+json": {
              "version_major": 2,
              "version_minor": 0,
              "model_id": "3c5b06ea78b345c6ae32e292dd2f3d63"
            }
          },
          "metadata": {}
        }
      ],
      "execution_count": 12,
      "metadata": {
        "gather": {
          "logged": 1633621972443
        }
      }
    },
    {
      "cell_type": "markdown",
      "source": [
        "# Hyperparameter and Initializing Optimizer & Scheduler"
      ],
      "metadata": {
        "nteract": {
          "transient": {
            "deleting": false
          }
        }
      }
    },
    {
      "cell_type": "code",
      "source": [
        "hyperparameters = {\n",
        "    'BATCH_SIZE': 8,\n",
        "    'START_EPOCH': 0,\n",
        "    'END_EPOCH' : 20,\n",
        "    'LEARNING_RATE': 0.00002,\n",
        "    'WARMUP_STEPS' : 10000,\n",
        "    'SHUFFLE' : True,\n",
        "    'BATCH_SIZE_GPU' : 1,\n",
        "    'PIN_MEMORY': True,\n",
        "    'NUM_WORKERS': 4\n",
        "}\n",
        "\n",
        "\n",
        "\n",
        "optimizer = AdamW(\n",
        "        model.parameters(),\n",
        "        lr = hyperparameters['LEARNING_RATE']\n",
        ")\n",
        "\n",
        "scheduler = get_linear_schedule_with_warmup(\n",
        "        optimizer,\n",
        "        num_warmup_steps = hyperparameters['WARMUP_STEPS'],\n",
        "        num_training_steps = -1\n",
        ")"
      ],
      "outputs": [],
      "execution_count": 21,
      "metadata": {
        "collapsed": true,
        "jupyter": {
          "source_hidden": false,
          "outputs_hidden": false
        },
        "nteract": {
          "transient": {
            "deleting": false
          }
        },
        "gather": {
          "logged": 1633622242580
        }
      }
    },
    {
      "cell_type": "markdown",
      "source": [
        "# PyTorch Script Dataset"
      ],
      "metadata": {
        "nteract": {
          "transient": {
            "deleting": false
          }
        }
      }
    },
    {
      "cell_type": "code",
      "source": [
        "dataset = ScriptData(\n",
        "        tokenizer = tokenizer,\n",
        "        file_path = data_dir\n",
        ")\n",
        "script_loader = DataLoader(\n",
        "        dataset, \n",
        "        batch_size = hyperparameters['BATCH_SIZE_GPU'],\n",
        "        shuffle = hyperparameters['SHUFFLE'],\n",
        "        pin_memory = hyperparameters['PIN_MEMORY'],\n",
        "        num_workers = hyperparameters['NUM_WORKERS']\n",
        ")\n",
        "\n",
        "x = next(iter(script_loader))\n",
        "print(f\"Shape of the tensors :{x.size()}\")"
      ],
      "outputs": [
        {
          "output_type": "stream",
          "name": "stdout",
          "text": "Shape of the tensors :torch.Size([1, 512])\n"
        }
      ],
      "execution_count": 14,
      "metadata": {
        "gather": {
          "logged": 1633622145591
        }
      }
    },
    {
      "cell_type": "markdown",
      "source": [
        "# Test GPT-2 Model"
      ],
      "metadata": {
        "nteract": {
          "transient": {
            "deleting": false
          }
        }
      }
    },
    {
      "cell_type": "code",
      "source": [
        "import gc \n",
        "gc.collect()\n",
        "\n",
        "x = next(iter(script_loader))\n",
        "\n",
        "# Caution: CPU Runnning!\n",
        "with torch.no_grad():\n",
        "    loss, logits = model(x.to(non_blocking=False))[:2]\n",
        "\n",
        "del loss, logits, x"
      ],
      "outputs": [],
      "execution_count": 11,
      "metadata": {
        "collapsed": true,
        "jupyter": {
          "source_hidden": false,
          "outputs_hidden": false
        },
        "nteract": {
          "transient": {
            "deleting": false
          }
        },
        "gather": {
          "logged": 1630061911462
        }
      }
    },
    {
      "cell_type": "markdown",
      "source": [
        "# Clear CUDA Memory"
      ],
      "metadata": {
        "nteract": {
          "transient": {
            "deleting": false
          }
        }
      }
    },
    {
      "cell_type": "code",
      "source": [
        "import gc\n",
        "torch.cuda.empty_cache()\n",
        "gc.collect()"
      ],
      "outputs": [
        {
          "output_type": "execute_result",
          "execution_count": 53,
          "data": {
            "text/plain": "20"
          },
          "metadata": {}
        }
      ],
      "execution_count": 53,
      "metadata": {
        "collapsed": true,
        "jupyter": {
          "source_hidden": false,
          "outputs_hidden": false
        },
        "nteract": {
          "transient": {
            "deleting": false
          }
        },
        "gather": {
          "logged": 1630064328759
        }
      }
    },
    {
      "cell_type": "markdown",
      "source": [
        "# Parameteter Checkpoint"
      ],
      "metadata": {
        "nteract": {
          "transient": {
            "deleting": false
          }
        }
      }
    },
    {
      "cell_type": "code",
      "source": [
        "script_count = 0\n",
        "sum_loss = 0.0\n",
        "batch_count = 0\n",
        "start_epoch = hyperparameters['START_EPOCH']\n",
        "end_epoch = hyperparameters['END_EPOCH']\n",
        "batch_iter = 0\n",
        "BATCH_SIZE = hyperparameters['BATCH_SIZE']"
      ],
      "outputs": [],
      "execution_count": 22,
      "metadata": {
        "collapsed": true,
        "jupyter": {
          "source_hidden": false,
          "outputs_hidden": false
        },
        "nteract": {
          "transient": {
            "deleting": false
          }
        },
        "gather": {
          "logged": 1633622247409
        }
      }
    },
    {
      "cell_type": "code",
      "source": [
        "start_epoch, end_epoch, batch_iter, BATCH_SIZE"
      ],
      "outputs": [
        {
          "output_type": "execute_result",
          "execution_count": 23,
          "data": {
            "text/plain": "(0, 20, 0, 8)"
          },
          "metadata": {}
        }
      ],
      "execution_count": 23,
      "metadata": {
        "collapsed": true,
        "jupyter": {
          "source_hidden": false,
          "outputs_hidden": false
        },
        "nteract": {
          "transient": {
            "deleting": false
          }
        },
        "gather": {
          "logged": 1633622247860
        }
      }
    },
    {
      "cell_type": "markdown",
      "source": [
        "# Moving CPU To CUDA"
      ],
      "metadata": {
        "nteract": {
          "transient": {
            "deleting": false
          }
        }
      }
    },
    {
      "cell_type": "code",
      "source": [
        "model.train()\n",
        "model = model.to(device)"
      ],
      "outputs": [],
      "execution_count": 24,
      "metadata": {
        "collapsed": true,
        "jupyter": {
          "source_hidden": false,
          "outputs_hidden": false
        },
        "nteract": {
          "transient": {
            "deleting": false
          }
        },
        "gather": {
          "logged": 1633622249758
        }
      }
    },
    {
      "cell_type": "code",
      "source": [
        "def optimizer_to(optim, device) -> None:\n",
        "    \"\"\" Moving PyTorch Optimizer to device \"\"\"\n",
        "    for param in optim.state.values():\n",
        "        if isinstance(param, torch.Tensor):\n",
        "            param.data = param.data.to(device)\n",
        "            if param._grad is not None:\n",
        "                param._grad.data = param._grad.data.to(device)\n",
        "        elif isinstance(param, dict):\n",
        "            for subparam in param.values():\n",
        "                if isinstance(subparam, torch.Tensor):\n",
        "                    subparam.data = subparam.data.to(device)\n",
        "                    if subparam._grad is not None:\n",
        "                        subparam._grad.data = subparam._grad.data.to(device)\n",
        "optimizer_to(optimizer, device)"
      ],
      "outputs": [],
      "execution_count": 25,
      "metadata": {
        "collapsed": true,
        "jupyter": {
          "source_hidden": false,
          "outputs_hidden": false
        },
        "nteract": {
          "transient": {
            "deleting": false
          }
        },
        "gather": {
          "logged": 1633622250364
        }
      }
    },
    {
      "cell_type": "markdown",
      "source": [
        "# Fine-tuning GPT-2 Loop"
      ],
      "metadata": {
        "nteract": {
          "transient": {
            "deleting": false
          }
        }
      }
    },
    {
      "cell_type": "code",
      "source": [
        "for epoch in range(start_epoch, end_epoch):\n",
        "    print(f\"Epoch number : {epoch}\")\n",
        "\n",
        "    for idx, script in tqdm(enumerate(script_loader), total = len(script_loader), leave=False):\n",
        "        \n",
        "        # Moving to CUDA:\n",
        "        x = script.to(device, \n",
        "                      #non_blocking=False\n",
        "            )\n",
        "        outputs = model(x, labels = x)\n",
        "        \n",
        "        loss, logits = outputs[:2] \n",
        "\n",
        "        # Normalize loss to account for batch accumulation:                    \n",
        "        loss = loss / BATCH_SIZE\n",
        "        loss.backward()\n",
        "\n",
        "        sum_loss = sum_loss + loss.detach().item()\n",
        "                       \n",
        "        script_count = script_count + 1\n",
        "        batch_iter += 1\n",
        "\n",
        "        if script_count == BATCH_SIZE:\n",
        "            script_count = 0    \n",
        "            batch_count += 1\n",
        "            optimizer.step()\n",
        "            scheduler.step() \n",
        "\n",
        "            for param in model.parameters():\n",
        "                param.grad = None\n",
        "\n",
        "            optimizer.zero_grad()\n",
        "            model.zero_grad()\n",
        "            \n",
        "        if batch_count == 100:\n",
        "            model.eval()\n",
        "            print(f\"Summed loss : {sum_loss}\")\n",
        "\n",
        "            with torch.no_grad():\n",
        "                sample_outputs = model.generate(\n",
        "                                        bos_token_id=random.randint(1, 30000),\n",
        "                                        do_sample=True,   \n",
        "                                        top_k=50, \n",
        "                                        max_length = 500,\n",
        "                                        top_p=0.95, \n",
        "                                        num_return_sequences=1\n",
        "                                )\n",
        "\n",
        "            print(\"Output:\\n\" + 100 * '-')\n",
        "            for i, sample_output in enumerate(sample_outputs):\n",
        "                sample_text = tokenizer.decode(sample_output, skip_special_tokens=True)\n",
        "                print(\"{}: {}\".format(i, sample_text))\n",
        "                    \n",
        "            batch_save_path = os.path.join(output_dir, 'batch', f\"gpt_script_epoch_{epoch}_batch_{batch_iter}.bin\")\n",
        "            state = {\n",
        "                'epoch': epoch,\n",
        "                'batch_iter': batch_iter,\n",
        "                'loss': sum_loss,\n",
        "                'model_state_dict': model.state_dict(),\n",
        "                'optimizer': optimizer.state_dict(),\n",
        "                'scheduler' : scheduler.state_dict()\n",
        "            }\n",
        "            torch.save(state, batch_save_path)\n",
        "            print(f\"Checkpoint {batch_save_path} is succesfully saved.\")\n",
        "\n",
        "            #del state\n",
        "            #torch.save(model.state_dict(), batch_save_path)\n",
        "            \n",
        "            batch_count = 0\n",
        "            sum_loss = 0.0\n",
        "            model.train()"
      ],
      "outputs": [
        {
          "output_type": "stream",
          "name": "stdout",
          "text": "Epoch number : 0\nSummed loss : 312.8936052918434\nOutput:\n----------------------------------------------------------------------------------------------------\n0: ook\n\n\"I've read about it, but it's really disturbing\"\n\n–Michael Keaton\n\n\"The Last Unicorn\" is available here\n\nThe Lost Season\n\n\"We're at a time where humans are disappearing, but we have a world in which we have hope and we have hope that there are new people in the future, and all of a sudden this monster is just coming!\"\n\n–Willa Holland, Game of Thrones creator\n\n\"The Last Unicorn\" is available here\n\nLights Out\n\n\"Everyone should have the opportunity to experience and experience a magical fantasy world from one of The Last Unicorn's characters\"\n\n–John Ridley, director\n\n\"Lights Out\" is available here\n\n\"We all should feel very privileged and grateful for The Last Unicorn\"\n\n–Matt Lopatin, creator\n\n\"Lights Out\" is available here\n\nThe Last Unicorn\n\n\"The Last Unicorn\" is available here\n\nThe Last Unicorn Season 3\n\n\"The last Unicorn is like a movie about unicorns\"\n\n–Lights Out\n\n\"You have to watch and understand that for many, the last unicorn is going to be a real star\"\n\n–Michael Keaton\n\n\"The Last Unicorn\" is available here\n\nWizards of the Coast\n\n\"People are so busy with the holidays, so they've given up hope, they're really focused on the show, and it's not all that fun\"\n\n–Peter Quill, executive producer\n\n\"Lights Out\" is available here\n\n\"Lights Out\" Season 3: \"Roots\" (Season 3)\n\n\"We're very happy with what has been done with the last four or five seasons\"\n\n–Matt Lopatin, executive producer\n\n\"The Last Unicorn\" is available here\n\nShelters\n\n\"The Last Unicorn\" is available here\n\n\"The Last Unicorn is very moving\"\n\n–Willa Holland, Game of Thrones creator\n\n\"The Last Unicorn\" is available here\n\nParenthood\n\n\"We're still in the midst of writing a sequel to the book,\" says executive producer Greg Berlanti\n\n\"The Last Unicorn is a very exciting sequel, and we think we can make that movie feel like a movie\"\n\n–Matt Lopatin, writer of the series\n\n\nCheckpoint ./storage/models/batch/gpt_script_epoch_0_batch_800.bin is succesfully saved.\nSummed loss : 310.05842243134975\nOutput:\n----------------------------------------------------------------------------------------------------\n0: umblr that we think are just some kids going to the beach and dancing around their weird little lives. But hey, it's about time you got that right. I'm really curious to hear what you've learned from her over the past year and a half to tell us your take on how it's different this time.\n\nI'm not sure if you've heard of her but I think you guys really have. Well, maybe I should start saying that again. I mean, I'm very proud to work with Jennifer, but I just heard her talk a lot about how she wants to get it all made right. So it's a very unique and interesting group of people that I've had the pleasure of working with over the years, but I'm really not sure how much of that is because we were just a few weeks apart. So when she said we'd make a new one.\n\nYeah, I've also been very surprised with the results. I had to put together this group of six people, so I had to do it on my own time frame and I had to have all my money and money's in a lot of different places. And to see the results of all of it is an honor to work with her and her entire team, so I think we have something pretty special right now.\n\nSo I am always impressed when people ask me questions. You know that's probably kind of what's cool about you? Because you don't really talk about what's going on with your whole life. You've got to figure it out and you're the one who is actually making it work and working. It's really special and you're able to talk about it and actually make the connection that you made so much.\n\nFor a couple of years, we were on her podcast all about our little story about getting married. So my heart goes out to her and her family because I was really really happy with the interview that they had done with us. And she had my heart going down at the end. It wasn't my wedding and it wasn't even close. So it really felt like we had reached a point of our lives where we had to move on. I mean, I would really really love to do something with my life and her life. But I was really looking forward to where we are now. But it's kind of nice to see that everyone knows we've got great things to do together and it's a wonderful thing.\n\nCheckpoint ./storage/models/batch/gpt_script_epoch_0_batch_1600.bin is succesfully saved.\nSummed loss : 304.470771253109\nOutput:\n----------------------------------------------------------------------------------------------------\n0: 177 The following is a short list of the things you need to know before you decide to run into a problem in your software: 1. You'll need to set up the system (and probably some basic user interfaces). 2. You can find a support page. 3. You can also buy software from the Internet. 4. Your browser isn't the perfect internet provider. 5. You're going to be using the wrong browser. 6. You'll probably never use it, but you'll at least have a decent understanding of the Internet. 7. You'll probably read some reviews (some of them, but that's another story). 8. You'll want to try the free version first, since you'll be using all of your free time. 9. You're going to get a lot of software if you stick with the free version. 10. You'll still use this version for a few days. 11. As you get further along, you'll start to get frustrated with that other version of the same problem. 12. You'll have problems with other versions, and maybe with other libraries. 13. You'll get a lot of software without fixing any of the other problems. 14. You don't know if you'll get stuck in a similar situation over and over and over again. 15. You'll want a better browser, or at least a much faster browser.\nCheckpoint ./storage/models/batch/gpt_script_epoch_0_batch_2400.bin is succesfully saved.\nEpoch number : 1\nSummed loss : 302.2959284186363\nOutput:\n----------------------------------------------------------------------------------------------------\n0: join. This is one way to get your first vote.\n\nWhy do you want to win?\n\nThe winner will win the lottery. If you live in one of the provinces, you can get a ticket to live in the other province or even the country in which you live. You can get the vote from either your housekeeper or your councillor if you're in the province.\n\nFor more information on how to apply, please visit http://www.golgiogroups.org/slavery.\nCheckpoint ./storage/models/batch/gpt_script_epoch_1_batch_3200.bin is succesfully saved.\nSummed loss : 298.4090391099453\nOutput:\n----------------------------------------------------------------------------------------------------\n0:  manipulated\n\nand that no government agency or body will listen to its demands. I know from experience that when the public fails to act as it has not done for the past five decades the consequences may be catastrophic.\"\n\nAndrea Brown: \"The US President's role in the world is being questioned. We know we're being taken over by a big oil firm like Exxon and, for example, BP. We've learned that, no matter the price, when the oil price goes up, the government will respond with a flood of weapons of mass destruction.\"\n\nMichele Zabriskie: \"The Trump administration will continue to use its military powers to intimidate all the people they want, including ordinary Americans. How many of us have learned to tolerate torture and abuse in this country?\n\n\"The United States has committed grave crimes like our actions last week, and many more have done the same to our fellow Americans and to the environment in other parts of the world. I'm proud to represent our country as I tell Americans about the sacrifices we make and the sacrifices we make to ensure that we continue to stand alongside our allies on this important issue.\"\n\nIn the past, in response to calls for sanctions, Obama have taken more direct actions in response to Iranian missile testing:\n\n\"The Pentagon and others have said the Iranians have used an intercontinental ballistic missile (ICBM) over our airspace. There was a lot of debate back then on how to respond. The president says that he feels compelled to \"regenerate America's nuclear capabilities\". Obama also told the American people that they need to fight terrorism at home or he will be dragged into international waters.\n\n\"This is a serious threat to the global economy and to national security, yet the president has ignored the warnings from other administration officials, including one who warned that if they tried to enforce sanctions, they'd face repercussions even tougher than what the United States has imposed to date.\"\n\nIn response to the recent decision by Japan to suspend trade with Washington, \"the President called for American companies to reduce production to avoid any kind of conflict with Russia.\"\n\nWhen asked if he expects the U.S. to \"make a decision\" on new sanctions, Obama \"is reluctant\" to make any move.\n\n\"If the administration wants to get a handle on our actions, we'll figure that out,\" he added. \"But if things go south, it would be too late\nCheckpoint ./storage/models/batch/gpt_script_epoch_1_batch_4000.bin is succesfully saved.\nSummed loss : 294.2416235804558\nOutput:\n----------------------------------------------------------------------------------------------------\n0:  SakS of the day, with what he did with it. But since everyone in the office was in the midst of being outraged by this, he could only go on, for one more day. Then, when we were able to reach the lobby, we ordered him to take our guns to our door and take them away.\n\n\nHe said \"yes, sir\" and headed out.\n\n\nI was surprised to see that there were people dressed as people who had never seen anything like this. It was just the sort of thing that would make people say, \"this is weird!\"\n\n\nAfter some time, it was clear that he had already lost himself in a man's imagination, and he turned to look down at me and said, \"you really have no idea how big of a threat these guys are.\"\n\n\n\"Mm-hm-hm, I...I think they're all too dangerous. Just ask me what they're up to!\"\n\n\nAnd then he turned to me, and put his face into my face, and said, \"Well, you could be a hero like mine. I think these guys are pretty bad. But they're not going anywhere if you just get rid of their guns.\"\n\n\n...\nCheckpoint ./storage/models/batch/gpt_script_epoch_1_batch_4800.bin is succesfully saved.\nEpoch number : 2\nSummed loss : 291.5353379845619\nOutput:\n----------------------------------------------------------------------------------------------------\n0:  beautiful and beautiful. But it was also very hard to live. I was very disappointed, not only because of how I had been raised, but also because I was also raised by parents. My father was a real jerk. I remember him telling me, \"I'd rather spend a hundred dollars to spend it on a baby than spend my life with a kid.\" I was very proud of my dad, who put on a great show.\n\nAnd it didn't end there. I was an actress for a time in the first half of the seventies and eighties who had been rejected by my boyfriend. The following year my girlfriend suggested that she be my girlfriend, to whom I gave her a job. We married in the late Seventies and went to work as a team. A few years later we met to talk about my marriage and how to write my first screenplay for the feature-length film I had written. We were in a car and my wife gave him a ride. I was very busy and very young. I was also in a relationship. I had not worked with a woman for a long time. I wanted to be a writer, but I just didn't get it.\n\nAdvertisement\n\n\nWe moved out. We met in France.\n\nMy wife said that there was going to be a baby in three months.\n\nI thought maybe it was, but that's not how you do it. One day, the baby comes and sits in my lap. When I am trying to make my own decisions, the baby never shows. When I try to do things, I think, \"This kid is going to run away?\"\n\nSo I have this wonderful thing that I call a \"frenemy of mine.\" That's when I realize that I'm really good at writing. And then I get to the point where my writing is a real game-changer in terms of what I can do for my family. I can go out of my way to help, or even help others who might need it, which can be incredibly therapeutic.\n\nSo I had to do my research. I had to dig up everything I could find about children and parenting. It was difficult. But I found a website I called Good Parenting for Kids, which had a lot of great articles on parenting that I didn't know about myself. I ended up going to Good Parenting for Kids, who is a really good resource. The site makes it\nCheckpoint ./storage/models/batch/gpt_script_epoch_2_batch_5600.bin is succesfully saved.\nSummed loss : 289.29829531908035\nOutput:\n----------------------------------------------------------------------------------------------------\n0: irds. \"I don't like this,\" Shepard said.\n\n\"And what about me?\" Shepard asked.\n\n\"I'm afraid you might have a little too much fun playing with yourself,\" Shepard told him.\n\nBart took his head off his shoulders and walked out of the room without even looking up. He stood in front of the screen and looked up in confusion, only to have a look of confusion that left him open when he realized what Shepard was talking about.\n\n\"I'm not sure you like this,\" He muttered to himself, as if the whole world was waiting for him at the end of his rant.\n\n\"...and I'm not sure how I would do this?\"\n\n\"Well, I had planned to do something different, but now I'm sure your dad has a plan for me,\" Herpet said.\n\n\"Then I'm sure you're gonna see it.\"\n\n\"Yes...it may surprise some people.\"\n\nThe next morning after dinner, Shepard spent his final hours and days in the car with the other kids, and then went off to the library for a few days.\n\nBart did whatever he was allowed to do with his life, but after a few days he found himself with a new purpose in life, a new job, and a new partner.\n\nBart was a very nice guy, and he didn't like that he was going to be bored.\n\nMARTINEZ: I'm glad he got over that fear of losing him.\n\nCATHERINE: His father's gonna tell him how to handle it.\n\nBART: There's a lot you can do with him, Maggie. But he'll still do.\n\nMARTINEZ: All I want is you, Bart. We'll be safe together...\n\nBART: (CONTINUED) I'll... (THROUGHLY) I'll get you together if I can...\n\nBART: Oh, Dad, we've gotta talk about a lot. You know we're all very happy together, aren't you?\n\nMARTINEZ: (INTO DEEPNESS) I guess that's why we always stay here. I love you all the same.\n\nCATHERINE: Yeah, thank you.\n\nMARTINEZ: (MOUTHLY INSOURCES) Well... I was\nCheckpoint ./storage/models/batch/gpt_script_epoch_2_batch_6400.bin is succesfully saved.\nSummed loss : 288.14585250616074\nOutput:\n----------------------------------------------------------------------------------------------------\n0: hods are usually pretty harmless.\nPossibly they should be avoided by the first or second generation.\nIf they become more noticeable, avoid them at least until they are stopped before it becomes a real problem.\nYou'll eventually have a family.\nAnd don't use them.\nSo... you have to make it work for them.\nNow what?\nDon't blame yourself.\nYou should never feel shame, because your family doesn't feel the same.\nBut your daughters or sons or the best friends do.\nI bet you get tired of it.\nWell, how do you feel about it?\nIf your family loves you and they're the smartest and easiest to love, why aren't you dating them?\nYou're not only dating them, your boyfriend is.\nEven if you're an asshole.\nAnd you're jealous.\nDon't you like you're wife?\nOr your girlfriend?\nOr your dad?\nOr your best friend?\nYou're not going anywhere.\nBut your daughters have to make their own decisions.\nIf you choose your daughter and your sons, they'll grow up.\nNow, do you feel like the children are in control of you, or will you just keep their parents out of your life?\nHoney? Let me tell you something.\nI was always like the kids.\nBut the fact that I never really knew was a problem.\nThe way I handled it made it impossible.\nIn the end, it made me unhappy.\nThey weren't really my friends, but I felt bad for them.\nHoney? Yes, you can't hide it.\nCheckpoint ./storage/models/batch/gpt_script_epoch_2_batch_7200.bin is succesfully saved.\nSummed loss : 286.29613833129406\nOutput:\n----------------------------------------------------------------------------------------------------\n0: ean, so long as it is in the right place in the right person.\nIf you really want to take a look at this:\nIf you look at the right side of this article, you'll notice that it is right behind the right arm.\nNow, take a look at those arms:\nAnd there is more.\nIf you've gotten the idea by now that an arm is a joint, you can probably use the same argument for a arm.\nMate and mate, don't you think?\nThat's an actual arm. It is a joint.\nNow I'm going to show you the muscles involved in keeping one arm in a straight line with the other, so that you can see it clearly.\nThat's just how you use a fork with your arms, in the right position and when you're standing over it.\nBut look, I'm not talking about the muscles here; I'm talking about the muscle on the arm -- the muscle that lifts your upper body, and the muscles that do that right.\nLet's talk about the muscles.\nThe muscles at the front of your head.\nAnd the muscles in your neck.\nAnd the muscles in your stomach.\nSo don't take my word for it.\nThere are many, many muscles here that are important to understanding. It should be mentioned here too, in case you're wondering how all of these things are related.\nI'll show you how to make your own \"muscles.\"\nSo first, just because you want to see a body that is more perfect than a simple skeleton doesn't mean that you have to build a muscle, either.\nThere are many ways to do that.\nIf you can make a \"muscle,\" you can put everything in this tiny little circle and you can push the circle down into it by pushing each part of that muscle as it moves.\nIf you can build a muscles that just go out to the side, you can push them down to the side and you can move them to the side as you move.\nThe muscle above can be made with two different parts.\nOne is something that you pull up on your back as you sit. This has to go down a few times. You can do it in one position or the other, but you can have many different muscles.\nOne's a little more comfortable with the back side of your head. You can put it in motion while you're\nCheckpoint ./storage/models/batch/gpt_script_epoch_2_batch_8000.bin is succesfully saved.\nEpoch number : 3\nSummed loss : 283.84667490422726\nOutput:\n----------------------------------------------------------------------------------------------------\n0:  tolerated, not at all. (BANG! Bang!)\nMarge Simpson: I know, what are you doing here?\nMarge Simpson: The house is full of them!\nHomer Simpson: Yeah.\nHomer Simpson: Oh, yeah.\nHomer Simpson: I remember what a great time I was at school there. I was in a room with four kids (laughter) and, I was so sorry to see the kids come in.\nHomer Simpson: Oh, man! (Homer's) Great! Let's go back.\nLisa Simpson: No.\nMarge Simpson: You're so adorable. And I love you, too!\nHomer Simpson: Thank you so much for telling me to go sit down on the couch. I love it when I can do my best work when there's an hour or two after the snack break.\nHomer Simpson: And if I was in the kitchen I'd never get to make anything.\nLisa Simpson: (LAUGHS) I'm sorry. It's just a question!\nHomer Simpson: What's the most disgusting thing?\nHomer Simpson: One thing I've learned over the years is that you can't turn off the television. (BANG!)\nLisa Simpson: (WHISPERING) Whoa, it's time to get home.\nBart Simpson: (LITTLE) Hey, Bart!\nHomer Simpson: Whoa, Homer.\nBart Simpson: Well, I'd like to come see you again sometime.\nLisa Simpson: (STUCK) Homer?\nLisa Simpson: We have a new game called \"Nerd City.\" There are tons of good things in the city.\nBart Simpson: (SPINED CHUCKLE) This is great. I need to see all your friends.\nHomer Simpson: No, no. (TO KIDS) It's Moe's Little League. I just wanted some extra balls of wax.\nMarge Simpson: Hey, I'm Lisa Simpson... I've never seen Homer in person before.\nHomer Simpson: I'll bet your life there's a girl at the table who's just starting to like him. I'll bet the boy is ready to help his brother with some chores.\nMarge Simpson: (WORRIED) Uh-oh!\nLisa Simpson: Okay, let's get a little snack. Marge\nCheckpoint ./storage/models/batch/gpt_script_epoch_3_batch_8800.bin is succesfully saved.\nSummed loss : 282.09943702816963\nOutput:\n----------------------------------------------------------------------------------------------------\n0:  parenting the way she always has...\nA lot of the writers at E.T. have been in and out of the news and have made their mark on American literature. For the past four years, though, we've seen them go the way of Dickens and Gremlins.\nOne thing for certain: E.T. has not changed much.\n(A) But what E.T. said... \"the children look so much younger.\"\n(B) What?\nE.T. can only have five children. They can't be left alone.\n(C) But why is that?\n... Is it because they've got more money, or because the writers are less competent than they used to be? They got their hair cut a lot quicker than they should.\nHomer Simpson and his wife, Lisa Simpson Simpson, are taking the kids on a trip to New Jersey to get a movie.\nThis is the first time the kids have been at the same home together since E.T.'s first visit...\nHomer Simpson and his father have been having very similar conversations since E.T.'s first visit, even before the first baby was born.\nCate Blanchett is writing a novel about Lisa Simpson.\nMarge Simpson is living the dream.\nAnd Lisa Simpson and her daughter, Lisa Simpson, are living a dream together.\nWhen I tell you about E.T., I say that it has the potential to become a classic, if only it can stay relevant for a generation or two...\nThe most famous E.T. movies are: ''The Simpsons,'' ''Lisa Simpson's Mom,'' ''The King of Queens,'' ''Bart Simpson's Mother,'' ''Sesame Street,'' ''Fiddler on the Roof'' and a few more.\nE.T. never leaves the same home in a decade.\nMarge Simpson's childhood memories are mostly memories of her childhood as a kid.\nE.T.'s memories are mainly memories of how great E.T.'s voice was.\nHer son is the one who most resembles him on the screen.\nCheckpoint ./storage/models/batch/gpt_script_epoch_3_batch_9600.bin is succesfully saved.\nSummed loss : 281.02997091412544\nOutput:\n----------------------------------------------------------------------------------------------------\n0: Can\n\nThe answer's a little harder to say.\n\nThe game's just been released. It's been on Steam for a while.\n\nHomer Simpson\n\nHomer Simpson\n\nSomewhere over there a woman is standing in a parking lot, screaming.\n\nHomer Simpson\n\nMarge Simpson\n\nBart Simpson.\n\nMarge Simpson\n\nLisa Simpson: What the hell are you doing? How long have you been out of town?\n\nHomer Simpson: I'm really excited for you.\n\nLisa Simpson: What do you mean by \"out of town\"?\n\nHomer Simpson: Oh, I miss the city.\n\nLisa Simpson: I'd be pretty pleased if you stayed.\n\nHomer Simpson: I don't know how it can feel like a new day to me. It feels really good to be back in town.\n\nLisa Simpson: And you can see it now! I've spent more time in the sun than on the lawn.\n\nLisa Simpson: Dad, I feel like we haven't spent time together.\n\nHomer Simpson: Dad, you'll never be able to take advantage of all the good times we've had together, Dad.\n\nLisa Simpson: Dad, I need to know this: there has never been an occasion when we've never been to dinner or spent time together.\n\nHomer Simpson: You're telling me, Dad, that if you didn't stay off the road at least for a month before it happens?\n\nHomer Simpson: No, no, I'll wait until the time is right.\n\nLisa Simpson: (CONTINUED) Don't you just know you're only a kid?\n\nHomer Simpson: Yes, I'm a little disappointed.\n\nLisa Simpson: It would be a great idea to get married and spend some time on a vacation.\n\nLisa Simpson: (THRILLING) Dad, it's all good.\n\nHomer Simpson: Yes.\n\nLisa Simpson: Oh, no. That was easy. Just watch the movie, eat a bowl of stew, and relax.\n\nHomer Simpson: But...\n\nLisa Simpson: Look, Dad, what the hell happened?\n\nLisa Simpson: Well, what happened?\n\nHomer Simpson: Well, I guess it happened that day that I was missing Lisa.\nCheckpoint ./storage/models/batch/gpt_script_epoch_3_batch_10400.bin is succesfully saved.\nEpoch number : 4\nSummed loss : 280.4634988307953\nOutput:\n----------------------------------------------------------------------------------------------------\n0:  (((i=0-i){i=b2a!important;i=b2b!important;d=b2b!important;p=b2b!important;t=b2b!important;}d=\"...\"(i){if(!d||d)break;}while(d){d=d+p.getBubbles()+i*((p.getBubbles()+1)!(1-a.i,1.i))*d}while(d){n=d-p.getBubbles()+i*((p.getBubbles()+1)!(1-a.i,1.i))*d}while(d){m=d*s.toInt32()+(p=b,p=i,p=b){n+=s.len(p,p=i)}l=n*s.length;a=f/n+(b,p)}if(n){h=a+b+a;s=b+b*s.length;d=t!=y?d:n*n-a+(b+a,p)}while(h){m-1.m.m_m.y();d--;f=z?t:n!=y;f=1.m!=y;p=e.m?f:n:n!=x!=y;p=e.m?f:n:n!=y;p=e.m?f:n:n!=x!=y;p=e.m?f:n:n!=y;p=e.m?f:n:n!=x!=y;b=e.m?b:e.m.b!=y?e.m.b!=y?n:d:d!=e.m?e:f:n!=x!=y}while(b){n=-b*p.getBubbles()-1;n+=s.len(p,p=i,p=b){n+=s.len(p,p=i)}while(n){m-1.m.m_m.y();d}f=f*s.length;h=(m+b);\nCheckpoint ./storage/models/batch/gpt_script_epoch_4_batch_11200.bin is succesfully saved.\nSummed loss : 280.04418581724167\nOutput:\n----------------------------------------------------------------------------------------------------\n0:  32\nBart Simpson: (SEVERAL) My mom always told me to keep it a secret...\nHomer Simpson: Yeah, I know... The girls know when it's time to make up our minds.\nHomer Simpson: (CUTS) They're like, they really like the idea of it!\nHomer Simpson: You're not gonna tell me, honey? You can never have anyone look at you without a smile on their face.\nLisa Simpson: And... how am I to be alone without you?\nLisa Simpson: So... we've been together for about two months!\nMarge Simpson: I've had a dream where you can't see.\nMarge Simpson: You sure you don't know that?! I'm on my own now... except to talk about Dad who doesn't wanna see me! (GRAMING) My parents told me we could get married, and I told them \"if you can't see\" you must be crazy!\nBart Simpson: Mom! Mom's not gonna give you this! It's Mom's fault!\nMarge Simpson: Hey, Daddy!\nHomer Simpson: Mom, you're pregnant! You're the only one who can't see it! But I can't...\nBart Simpson: (SINCE HE STILL SEXEY) Now, please don't try to tell me I'm pregnant!\nMarge Simpson: (SHOCKED) Dad, don't tell me you don't like me. I've never met you before...\nHomer Simpson: Oh, don't worry, honey! It's okay. I've got my new body.\nMarge Simpson: What did you just say?!\nHomer Simpson: Mom, don't worry about me. My body is going to work for you. The doctor will do anything you say. (SHOCKED) Dad, you're such a sweet-hearted little girl!\nMarge Simpson: (MISS) What do you mean?\nHomer Simpson: You'll see if you can find out... if I tell you it won't take long!\nMarge Simpson: Oh, God! You've already started dreaming. Now you're going to have to do it!\nHomer Simpson: (SWEETLY TOGETHER) My parents told me we could get married, and I told them \"if you can't see\" you\nCheckpoint ./storage/models/batch/gpt_script_epoch_4_batch_12000.bin is succesfully saved.\nSummed loss : 276.45891121029854\nOutput:\n----------------------------------------------------------------------------------------------------\n0: Te and I will be fine.\nHomer Simpson: Okay, honey.\nLisa Simpson: I think our story is about how you made me miss my husband at the wedding. My husband couldn't be there if I had wanted him. And so it's not the time to apologize to him.\nHomer Simpson: I have a special place in your heart.\nLisa Simpson: Oh, come on, honey.\nHomer Simpson: Let me tell you something that we know is important for your marriage to succeed: You have my deepest respect and I'll give it to you and to everyone else who cares. I'd never want to see you do that. (TO MURRAY JOHNS) You're a good friend.\nMarge Simpson: Honey, I know you're not, but it's important for this family that you live and tell your story.\nHomer Simpson: I've got to go.\nHomer Simpson: (WHISPER) I'll make you a new friend.\nMarge Simpson: (EXPLODING THE POINTS AT A PUPPET) Oh, yeah.\nBart Simpson: Well, you've got to wait one more time to find him.\nLisa Simpson: (LOVING HER) Hey, I thought you'd see it coming.\nHomer Simpson: I'll take care of you for the rest of your days.\nMarge Simpson: (TO GRAB) All right.\nLisa Simpson: Well... maybe next time I'll be on the phone and tell you all I know about the whole thing...\nHomer Simpson: All right. (MURRAY JOHNS GRAB) (SMOKE) It's my last week back in college. I'm tired of this lousy time between classes.\nMarge Simpson: All right. There'll be an hour at my house.\nMarge Simpson: (CRAZY) Wait a minute, Lisa. Are we leaving?\nLisa Simpson: Well, the other day I was talking to my mother about it. I found out that her husband was gone with the storm.\nMarge Simpson: What a shock. Why?\nLisa Simpson: Oh... okay, my question is. What if I'm missing your husband? What if I go missing?\nMarge Simpson: Hmm... what if I'm missing my spouse?\nMarge Simpson: (FOL\nCheckpoint ./storage/models/batch/gpt_script_epoch_4_batch_12800.bin is succesfully saved.\nSummed loss : 276.336374476552\nOutput:\n----------------------------------------------------------------------------------------------------\n0: rhon), as seen in: \"Twilight Sparkle (the Snow Pony), \"Andrea Swanwick's Wedding to Love\" (TLC Channel)\nCleveland, Ohio (May 3, 1999): A scene from the movie \"Fifty Shades of Grey\"\nHomer Simpson's dad (Marge Simpson) walks over to the scene, not knowing what to expect...\nSpencer Pierce's dad (David Attenborough) calls the police, and when they arrive, Spencer Pierce says that he's a good man, isn't he?\nMarge Simpson: Well, it's... \"the big break in life.\"\nLisa Simpson: Uh, man. (SPEAKING CHUCKLES) It's \"Marge Simpson Gets a Dog.\"\nHomer Simpson: (READS \"Marge Simpson Gets a Dog\" FROM TLC SERIES) You're a nice guy. I like you.\nLisa Simpson: You're pretty.\nBart Simpson: (SATURDAY) Hello, Moe... Marge... it's Moe Simpson.\nBart Simpson: (INTRIGUED) Yeah, Moe! I saw him.\nMarge Simpson: Hey, Marge, where's Daddy?\nMarge Simpson: Out at the lake!\nMarge Simpson: (NODBLING) I'm so disappointed in the way your daughter went through things, Marge... I was so happy to see her be the way she's been.\nMarge Simpson: So, what are we supposed to do about this?\nMarge Simpson: (SIGH) I'll be right back, Dad.\nMarge Simpson: Well, I know what that means, Daddy. You got to get over this one. It's not about what's next, it's about what's not.\nMarge Simpson: Well, why the hell can't we just get over this?\nMarge Simpson: I mean, they're all so happy. That they can be happy, you know?\nMarge Simpson: How can we not be?\nMarge Simpson: That's it. We're all just so happy. Now it's your turn.\nMarge Simpson: Now. Just leave your pants on.\nMarge Simpson: (TIES OFF) Mom. I don't know what they're wearing... and I've never seen you change your clothes.\nMarge Simpson:\nCheckpoint ./storage/models/batch/gpt_script_epoch_4_batch_13600.bin is succesfully saved.\nEpoch number : 5\nSummed loss : 274.4222102612257\nOutput:\n----------------------------------------------------------------------------------------------------\n0:  typical as well.\nBart Simpson: (SWEETLY) What am I gonna say? I didn't expect that.\nMarge Simpson: (HAPPY) Oh. You're just one step ahead.\nHomer Simpson: (WITHIN' NO SCREEN) That's cool.\nMarge Simpson: (SWEETLY) Well, if my husband could talk this one out for all his worth, I think he'd like it.\nHomer Simpson: Sure, I'll try.\nBart Simpson: Well, maybe that would make sense later.\nLisa Simpson: (MOANING AS A WEAPON) I never thought I would see you like that.\nBart Simpson: (MOMENT) All right...\nMarge Simpson: Bart.\nBart Simpson: Good night, Bart.\nLisa Simpson: Uh... \"Bart.\"\nBart Simpson: (SOUTH) Uh, aww, uh. (DISSIPED GASP) I thought you'd like that.\nLisa Simpson: (DIFFICULT) I dunno, we could go shopping. But don't let me, honey!\nLisa Simpson: Oh, no. My husband's not gonna take my shopping anyway. And he's not gonna show me what he bought for me.\nLisa Simpson: And you, right?\nBart Simpson: No, okay... I don't want that... (BASHLY) I'd rather...\nLisa Simpson: Okay, okay, okay, okay. Okay... Well, I'd do anything to make this guy feel special. (TO SELF) My husband would enjoy this special. (DISTURBED) What I know he wants, I think you know what he doesn't like...\nBart Simpson: Okay, okay... okay...\nBart Simpson: (TO HIMSELF) All I know is... I'd better buy something better.\nHomer Simpson: Why don't you... buy something at Moe's.\nHomer Simpson: I know, Mommy, I think the time to think is when we have to make it up.\nLisa Simpson: Look... you are talking a lot about what's being taken away from you.\nBart Simpson: And what's being taken away from you?\nHomer Simpson: (TO HIMSELF) What's that you mean,\nCheckpoint ./storage/models/batch/gpt_script_epoch_5_batch_14400.bin is succesfully saved.\nSummed loss : 275.58401930332184\nOutput:\n----------------------------------------------------------------------------------------------------\n0:  accompany in on her conversation with the young girl.\nHomer Simpson: Oh, right.\nMarge Simpson: (MOANS) Oh...\nHomer Simpson: (TO KISS) And she's always going through an allure of being called a \"chimpanzee\"!\nHomer Simpson: (MURMURS SOBBER) I've never met a kiddie like she.\nHomer Simpson: (BEAT) And I'm not even a good kiddie!\nMarge Simpson: Hey...\nMarge Simpson:...don't you think she's better than everybody else?\nHomer Simpson: Yeah, but it's not the prettiest girl in the world!\nHomer Simpson: (DOGGING) I just found out. I haven't been happy with everything I know.\nMarge Simpson: Wait a minute! I've got a better idea. I just want you to take a picture.\nHomer Simpson: No? But the whole picture has to be a picture of me.\nHomer Simpson: (CALLING BACK) You're not that cool!\nBart Simpson: Oh? Oh, Dad!\nHomer Simpson: You're the best kid ever!\nHomer Simpson: Dad, there are a lot more wonderful girls in my class than I thought I was! I couldn't help but notice how these little girls are so fun!\nBart Simpson: (THROAT CHUCKLE) Don't worry, Dad. I know you all want to talk about these other girls.\nLisa Simpson: But Dad, the real heroes do live in your town, and they're the only ones who really keep you safe. I really hate that one.\nHomer Simpson: (INTRIGUED) Uh, that's me. I like having some kind of good girl in your life, but I really think some of these other girls don't deserve to be there.\nMarge Simpson: (REALIZING) Who cares? We can be friends again! What a perfect new day for all of us.\nBart Simpson: That's it, honey. Get up, guys. (TO HIMSELF) I didn't mean to be so loud.\nBart Simpson: So the girls are really enjoying it. They're just hanging out with some random people like this, and I want them to enjoy it more\nCheckpoint ./storage/models/batch/gpt_script_epoch_5_batch_15200.bin is succesfully saved.\nSummed loss : 272.951025351882\nOutput:\n----------------------------------------------------------------------------------------------------\n0:  commem:\n-Pete. And as I've mentioned before, the idea of \"Marge Simpson\" being a \"belly dog\", is totally fine.\nLisa Simpson: (SADLY) Well that sucks. Now that I've read the latest episode, I can't resist.\nBart Simpson: (SADLY) What? I have to get back to my dog.\nHomer Simpson: Homer!\nBart Simpson: Bart! What the hell is wrong?\nHomer Simpson: (SADLY) Lisa! I saw that last episode! She's still up there!\nBart Simpson: Well that was all good. But Lisa doesn't want to be like this all the time.\nLisa Simpson: Who's next?! Lisa?! Lisa?! Who is that?\nHomer Simpson: Lisa Simpson! Lisa, I'm the one with her.\nHomer Simpson: Lisa! You think you're some kind of evil dog? Fine... Let me check her out.\nLisa Simpson: I'm not just your evil dog. Your evil dog is Lisa Simpson.\nBart Simpson: (SCREAMS AND ENCOUNTS) Hey Lisa. You think you can be good?\nLisa Simpson: Don't worry, I'm right on.\nLisa Simpson: You're an idiot. I am you.\nHomer Simpson: Bart, you don't deserve to be like Lisa.\nLisa Simpson: Don't worry, it's not about me, it's about you.\nLisa Simpson: (WHIZZZZZZ) Look, we can get along. We're just going out and having fun.\nLisa Simpson: What?\nLisa Simpson: I didn't need you to show me how good I am.\nHomer Simpson: You're supposed to be the greatest! But you've gotten so much work out of this.\nLisa Simpson: It's just... it's my work, right? (LAUGHING) Oh, right. All of you. I have a secret. Don't bother asking. Just tell me.\nBart Simpson: You're right, I really did love you. I'm going to save this one.\nHomer Simpson: You love me?\nLisa Simpson: Well, thank you very much.\nHomer Simpson: (THEN) Lisa, you're not gonna get that!\nLisa Simpson: It's okay, I love you\nCheckpoint ./storage/models/batch/gpt_script_epoch_5_batch_16000.bin is succesfully saved.\nEpoch number : 6\nSummed loss : 272.595200330019\nOutput:\n----------------------------------------------------------------------------------------------------\n0:  inspectors.\nAMY GOODMAN: A few minutes ago, in the New Yorker, one of the magazine's most prominent editors, George Takei, wrote in a glowing review about how the U.S. military in Vietnam destroyed the civil rights movement. He wrote: The war was \"like the slaughter of a cow that never dies.\"\nBILL MOYERS: That is a lie.\nHAROLD YOUNG: (TOUCHED UP) That's what I hear about Vietnam... (THEN) \"Blood, fire, bullets... everything, everything.\"\nHAROLD YOUNG: How many Americans were killed in Vietnam?\nHAROLD YOUNG: Twelve thousand.\nBETTY PELGRIM: That's about five hundred thousand people. We don't know the number.\nHAROLD YOUNG: Four hundred thousand? That's five hundred thousand.\nMarge Simpson: You're a historian. But for now, when you write history books, you've got to admit that the war has killed a thousand people.\nHAROLD YOUNG: I'm sorry, honey. We haven't had to kill a thousand people in twenty-four months.\nHAROLD YOUNG: (PANICKED) I love you. I want to spend your days in your home. I want to watch as the next generation makes its voices heard.\nMarge Simpson: I love you too, Bart. But I'm not sure I could love you as a son.\nMarge Simpson: Well, that's what I want. A boy, a son, a son. I'd love to read you the autobiography of Henry George, the inventor and champion of freedom and democracy.\nMarge Simpson: I'm afraid of that.\nHAROLD YOUNG: (GRIFFLED VOICE) I'm afraid of that, too. And I don't have to like it.\nMarge Simpson: I don't want to be ashamed. I want to take what I have.\nMarge Simpson: I don't want to be ashamed. I want to be brave. I want to stand up and show our country how brave we're.\nMarge Simpson: I want to stand up and be brave.\nBart Simpson: Oh, I like you too.\nHAROLD YOUNG: (THEN) You're a boy, too.\nBart Simpson: Oh, I\nCheckpoint ./storage/models/batch/gpt_script_epoch_6_batch_16800.bin is succesfully saved.\nSummed loss : 271.2931416630745\nOutput:\n----------------------------------------------------------------------------------------------------\n0:  Common.\nMarge Simpson: Well, we don't have to spend time on that.\nMarge Simpson: Hey, guys, you can stay in the car. I'm home from school.\nMarge Simpson: You can see my car right there! It's on fire, I'm taking care of myself!\nMarge Simpson: There's no way I'm going to stay!\nLisa Simpson: It's my job.\nLisa Simpson: I was born in the Great Depression!\nMarge Simpson: Now, it's true.\nMarge Simpson: And I was never the biggest or the brightest.\nMarge Simpson: It took a lot to get here.\nMarge Simpson: And now, it's a lot easier.\nMarge Simpson: (PUNCHING HEAD LAMB) That's what I get for my free stuff.\nMarge Simpson: I love your work. I can't believe you paid so much for your stuff.\nBart Simpson: (THREATENS GROAN) \"Hmmm, I should buy a house? What about this one you can't afford?\"\nMarge Simpson: (SHOCKED) Look, I have to do something to get my free stuff. I just started this year, and I'm supposed to start with money.\nMarge Simpson: Oh, well. You won't hurt me with the free stuff unless I just say 'No to it.'\"\nBart Simpson: That's so sweet! I've always wanted to be an artist!\nBart Simpson: What? Why would I go to school?\nBart Simpson: (READING DOCUMENT) \"Homo-mo-mo\" is like \"Homo-mo.\" It's my \"Homo-mo\" -- that kind of thing.\nMarge Simpson: No.\nBart Simpson: Oh, oh, my God. We're so happy... (BARNES) It's been a good year.\nBart Simpson: Thank you, Mrs. Simpson.\nMarge Simpson: (INTRIGUED BY BROWNHALL) \"Fifty Shades of Grey.\"\nBart Simpson: Oh, thank God.\nMarge Simpson: Why, uh... why... no, I'm just...\nBart Simpson: (SLEEPING) \"Bargain.\"\nBart Simpson: (TEN TH\nCheckpoint ./storage/models/batch/gpt_script_epoch_6_batch_17600.bin is succesfully saved.\nSummed loss : 270.48962473869324\nOutput:\n----------------------------------------------------------------------------------------------------\n0:  Invasion\n\nLisa Simpson: All right! Come on up, you fool.\n\nHomer Simpson: It's like you're not in school!\n\nLisa Simpson: The school, the boys!\n\nHomer Simpson: (TO ANNOY) Hi, Marge. How are you doing?\n\nMarge Simpson: Well, you may not be at school that day, but I feel it's best I have to put your arm around it.\n\nMarge Simpson: You know, it's the last time I've ever been here. I am...\n\nMarge Simpson: (BEAT) You know, I've been here four days, but all it took was a little time to get myself out of bed and relax.\n\nMarge Simpson: And after that, I always felt like there's nothing I could do about it.\n\nMarge Simpson: (CONFUSED) Why wouldn't you?\n\nLisa Simpson: Because it was my family.\n\nLisa Simpson: (CONFUSED) You're not my family!\n\nMarge Simpson: You know?\n\nLisa Simpson: (HOPEFUL) How can I feel guilty for being an alien, and that's why I'm asking you to help me, too?\n\nHomer Simpson: I can't believe this is happening.\n\nLisa Simpson: (WORRIED) I don't know, maybe you'd be more affected. You're a woman who grew up with no father, and now I'm just worried about how much it would affect your family.\n\nMarge Simpson: Lisa, this would be a good idea to help somebody else. You could find out who you are. But...\n\nLisa Simpson: (DISRUPTING) We won't be here...\n\nHomer Simpson: (STOPPING) I think I'm about to fall asleep.\n\nLisa Simpson: (SINGING) Oh yeah!\n\nHomer Simpson: (HOPEFUL) Okay, thanks, Bart. You were right.\n\nLisa Simpson: You don't need to worry about the weather. It would be good to see you.\n\nHomer Simpson: (CHUCKLES) Well... at least this is a safe place for us.\n\nLisa Simpson: Hey, this was our family's house.\n\nLisa Simpson: (ST\nCheckpoint ./storage/models/batch/gpt_script_epoch_6_batch_18400.bin is succesfully saved.\nEpoch number : 7\nSummed loss : 271.45228439569473\nOutput:\n----------------------------------------------------------------------------------------------------\n0: ocus and in that moment he is gone.\nMarge Simpson: (ANNOYED CHUCKLE) Homer Simpson? Why are you all alone?\nHomer Simpson: Well, one is not enough. (SIGHS) I want to learn.\nLisa Simpson: Why can't my Dad, Dad, look at me and say \"Homer Simpson\"?\nLisa Simpson: (SIGH) I mean, look what the baby is doing here.\nMarge Simpson: (DISTANTLY GASP) Are you still in the mood?\nMarge Simpson: Oh, this is great. We're both in the mood.\nMarge Simpson: All right, now where's my daddy, Dad?\nHomer Simpson: Well, I was just telling my dad I'd read in the Bible on this side of the pond. I was a little worried, but he was right. I could do what he wanted.\nMarge Simpson: Yeah.\nMarge Simpson: This is just a little extra work, Homer.\nMarge Simpson: Not yet.\nHomer Simpson: (TO FAMILY) Hello. What is it? Are you Dad?\nMarge Simpson: Huh? Where have you been?\nHomer Simpson: Well, what are you doing here?\nMarge Simpson: You can read, if you like.\nMarge Simpson: I want you to know that we won't be eating any noodles for dinner. That's not our fault.\nHomer Simpson: (TASTING) Just because I love you doesn't mean you'll ever get upset about me. I promise.\nMarge Simpson: That's a great thing for sure. Now go take a break and sleep, Mom.\nBart Simpson: (SIGH) Dad!\nHomer Simpson: (QUICKLY) Just remember, Dad! I want you to stay away from this place I know can't turn around and destroy you.\nHomer Simpson: Mom! Help me!\nMarge Simpson: Oh, Daddy. I can't keep you from doing what you've tried, Dad.\nHomer Simpson: (SIGH) That's too much.\nHomer Simpson: Oh wait a minute... do you know what I'm afraid I'll do if I do that to you again?\nHomer Simpson: (GRAMMYING CHUCKLE) That's it, it\nCheckpoint ./storage/models/batch/gpt_script_epoch_7_batch_19200.bin is succesfully saved.\nSummed loss : 269.3541789650917\nOutput:\n----------------------------------------------------------------------------------------------------\n0:  Nearly\nMarge Simpson: (THEN) I can help... (POINTING THROUGH THE AIR) Please... take a look. This looks like a nice house. Can I buy it?\nHomer Simpson: (WHISPER) That's the way I remember it. I always had so much fun with it.\nBart Simpson: (MUTTERING) Oh, what the? You're just a little old.\nMarge Simpson: I don't know about you, Homer. You were a little too young.\nBart Simpson: (SELF-CONDUCTED) I didn't know there was a world I could make friends with -- no! You're the only guy I've been through who doesn't know that this place is beautiful.\nBart Simpson: I need to get it in that house. There's so much fun in the world.\nHomer Simpson: (GRUNT) Oh, Bart, what are you talking about, Bart. This is what America was like a thousand years ago. That's right!\nLisa Simpson: Bart, you're right. Look at that house. You've never seen anything like it before.\nHomer Simpson: (HORRIFIED) It looked like it was built just for you.\nHomer Simpson: (BEATFUL NOISE) And it's got its own bathtub, too. I mean, that's a real dream house.\nBart Simpson: (TREATENESS) It's so romantic! Now come on in. It's romantic!\nHomer Simpson: It's so... exciting.\nBart Simpson: (SCARED NOISE) I'm gonna make this house look like the house that I used to live in. And there's not that much money left for the family room. It has the kind of privacy I don't want in this house -- I want you to feel like a brother in arms -- which means I can always have kids with you.\nHomer Simpson: All right, it's time to get the house. Go buy some clothes for Mom and Dad. It's about time we got some clothes for our boys.\nHomer Simpson: I think we should come find some old clothes for Mom and Dad. They'll be perfect-- but I'm not gonna give them up in the next few weeks.\nHomer Simpson: Don't worry, it won't\nCheckpoint ./storage/models/batch/gpt_script_epoch_7_batch_20000.bin is succesfully saved.\nSummed loss : 268.0671252757311\nOutput:\n----------------------------------------------------------------------------------------------------\n0:  profiles (in his mind) is his wife who doesn't trust me. But then again, if I'm a bad guy, why have you married me?\nMarge Simpson: I don't know. How did you get to be a good husband?\nHomer Simpson: Why was my marriage a bad one?\nMarge Simpson: There's a little something about the way they tell you it. Maybe you're a good husband, but I'm not sure.\nHomer Simpson: Uh-oh. It's like your father was your father -- he taught you how to think like your father. (HUGS) And then later, you got sick of that.\nBart Simpson: Hey, I really wanna know why they've ruined you.\nHomer Simpson: That is a little too much.\nMarge Simpson: Yeah, we should look into it. Maybe we should let her think.\nBart Simpson: I've learned my lesson. It's not just about me, Bart.\nHomer Simpson: (GASPS) I don't like your behavior. I don't like you.\nMarge Simpson: (ANNOYED GRUNT) Homie, you have a very personal reason for calling me a lousy husband.\nMarge Simpson: (COLLAPSING) I guess we can both just keep this from happening.\nHomer Simpson: (LOOKS FAST) Just look at those nails!\nBart Simpson: (SILVERY) You're really bad...\nMarge Simpson: (SHOCKED) That's exactly it! Your father is a bad guy! We both hate him!\nHomer Simpson: (READING) Ohhh, I've never been so upset. We can call him our father.\nBart Simpson: (SINCERE) We've been together a long time! Dad, I never could've imagined our partnership.\nHomer Simpson: (TO MARTY) Just a little about, my husband.\nMarge Simpson: Okay, Bart. I'll stop the car!\nHomer Simpson: Oh, yeah, and my best friend's the father he killed!\nHomer Simpson: (READING) The boy I married has been cheating on my mother.\nHomer Simpson: Dad, we were dating for the longest time, and he cheated on my mother! (WORRIED) I told\nCheckpoint ./storage/models/batch/gpt_script_epoch_7_batch_20800.bin is succesfully saved.\nSummed loss : 267.4823048710823\nOutput:\n----------------------------------------------------------------------------------------------------\n0: Former I have lost a lot of ground.\nHomer Simpson: (HAPPY) Yes, sir?\nMarge Simpson: What about this boy? The guy with the crazy little dog in the bathtub?\nBart Simpson: (READING) \"Awwwww!\"\nMarge Simpson: I'm not sure I would be as smart as Lisa Simpson.\nLisa Simpson: But you're really smart.\nLisa Simpson: No wonder his whole life is over.\nLisa Simpson: You know what? No, I would like to. I feel better about this job than most people in the world do. Maybe this man's brain will be better than mine.\nMarge Simpson: No man wants a wife like this!\nHomer Simpson: (INTRIGUED LOUD THROAT) Ohhh, the boy with the stupid little dog!\nLisa Simpson: (HOPEFUL) Oh, he's a genius!\nLisa Simpson: (SLEEPY) A genius! A genius! A genius!\nMarge Simpson: And now Bart is thinking...\nHomer Simpson: Oh, yeah.\nMarge Simpson: Marge, did he ever read the Bible?\nMarge Simpson: Yes.\nMarge Simpson: Marge, I don't want to talk about this. I don't want to talk about this. I want to be able to concentrate on what I'm learning.\nLisa Simpson: But he was always interested in music.\nMarge Simpson: I thought he was good at it.\nHomer Simpson: No, Bart. I'm not really interested in that stuff.\nMarge Simpson: No, I'm interested in what I learned.\nLisa Simpson: Bart, you've taught me so much, you seem to have learned so much.\nHomer Simpson: Yes, but you've also made me love the children.\nMarge Simpson: I think...\nHomer Simpson: (BEAT) He can only go so far.\nHomer Simpson: Well, it would be interesting to have him take that test again, but that's not how my kids feel about their father.\nMarge Simpson: No. And I think it's pretty safe to say that Bart's always been a better father than I've ever had.\nLisa Simpson: Dad?\nHomer Simpson: Well, how much?\nMarge Simpson:\nCheckpoint ./storage/models/batch/gpt_script_epoch_7_batch_21600.bin is succesfully saved.\nEpoch number : 8\nSummed loss : 267.3406611084938\nOutput:\n----------------------------------------------------------------------------------------------------\n0:  arrays.\nLisa Simpson: (POINTS TO BUDDING) Well, this is the worst that I've ever seen, Dad.\nLisa Simpson: (WHINY) That's my son! He's the best!\nBart Simpson: Who? Oh yeah, my husband! Dad!\nMarge Simpson: Now you've made an idiot out of me.\nHomer Simpson: (ANGRY) Well, now I've gotta apologize...\nLisa Simpson: Why are you trying to kill me? I know I'll never be forgiven!\nBart Simpson: I'm trying to warn Mom...\nBart Simpson: (POUDS HER CHUCKLE ON HER MOANS) (WORING HER HAND) How many times have we said goodbye?\nBart Simpson: I'll be fine.\nHomer Simpson: Well, I'll be fine.\nBart Simpson: (SHRIEKS, WINDOWING) Bart, come outta here...\nBart Simpson: (GRUNTS) Now, let's go back inside.\nBart Simpson: Hey, look at that big guy.\nMarge Simpson: There, on the bottom of the chair.\nBart Simpson: (GASPS) That means he's gonna be fine.\nMarge Simpson: (WHISPER) That means he has to tell Mom he's fine, too...\nMarge Simpson: (HURTING AROUND) No, no, no. I'll just have to get him in here before he's mad.\nHomer Simpson: (WORRIED NOISE) Look at him! There's my son and his pants.\nLisa Simpson: I'm not sure he's mad at you, but I can't help but feel sorry for you.\nHomer Simpson: I don't know, maybe he's just scared the other kids won't see him.\nLisa Simpson: But he's not scared, he's just angry at you.\nBart Simpson: Oh yes, he's angry at me!\nMarge Simpson: (EXCITED NOISE) Bart, please. I have to get out of here!\nHomer Simpson: Just for that... just for that...\nMarge Simpson: I'd be proud.\nHomer Simpson: (CHUCKLES) How could it be so easy? I mean, look at the clothes\nCheckpoint ./storage/models/batch/gpt_script_epoch_8_batch_22400.bin is succesfully saved.\nSummed loss : 266.67867237329483\nOutput:\n----------------------------------------------------------------------------------------------------\n0:  traumatic\n\nLisa Simpson: Ohhh, yeah. (CUTTING TO BOTTOM) But there's a great story, Lisa. And a new song.\n\nLisa Simpson: What if we just had an awesome, catchy \"The Little Things\" story?\n\nHomer Simpson: (TO HERSELF) Oh, the idea of making a \"little thing\" a family favorite.\n\nBart Simpson: So, Mom, you just don't want to go on holiday like that.\n\nLisa Simpson: But your dad likes to make things for everybody.\n\nBart Simpson: (SADLY) You don't!\n\nHomer Simpson: I did!\n\nMarge Simpson: Don't worry, there's a wonderful \"Happy Holidays,\" Homer.\n\nHomer Simpson: (REALIZING) That's what I called it after I left.\n\nBart Simpson: Then it was, really, for you guys.\n\nLisa Simpson: (CHUCKLES) Dad!\n\nHomer Simpson: (COCKY) Don't you think so?\n\nLisa Simpson: What do you think they're doing?\n\nHomer Simpson: Oh no. It's terrible.\n\nBart Simpson: (SINGING) \"Homer Simpson! Happy Holidays, Happy Birthday, Happy Holidays, Happy Holidays\" Homer Simpson! (MOCKING LAUGHTER) \"Happy Holidays, Happy Holidays, Happy Holidays, Happy Holidays... Happy Holidays...\"\n\nBart Simpson: (SINGS) 'Homer Simpson' HAPPILY RETRO / HAPPILY RETRO / HAPPILY RETRO / I AM LOVED FOR SOME A NEW CHIEF\n\nHomer Simpson: (SINGING) 'Homer Simpson' / 'Homer Simpson' / 'Homer Simpson' / 'Homer Simpson' / 'Homer Simpson' / 'Homer Simpson... / 'Homer Simpson... / 'Homer Simpson... / 'Homer Simpson... / 'Homer Simpson... / 'Homer Simpson... / 'Homer Simpson... / 'Homer Simpson...... / 'Homer Simpson... / 'Homer Simpson... / 'Homer Simpson... / 'Homer Simpson...' / 'Homer Simpson... / 'Homer Simpson......... / 'Homer Simpson......\nCheckpoint ./storage/models/batch/gpt_script_epoch_8_batch_23200.bin is succesfully saved.\nSummed loss : 265.64249753952026\nOutput:\n----------------------------------------------------------------------------------------------------\n0: Creat: I have to tell you, I won't miss it all. When we're done I will be gone.\nHomer Simpson: Oh, thank you very much.\nLisa Simpson: It's really exciting seeing Lisa and I go back to our old lives.\nHomer Simpson: (HAPPY, THEN) That is amazing, thank you very much.\nMarge Simpson: Oh.\nHomer Simpson: Yeah, well... maybe if the school had gotten a little safer and let Homer get away in his underwear.\nMarge Simpson: (SOTTO) That is my wish. I want a girl to take the chance.\nHomer Simpson: Why you ask? Because I think it's time for a girl to become a teacher.\nMarge Simpson: I know, Dad. No wonder he didn't like us. But it might change things.\nHomer Simpson: How come you said I could?\nMarge Simpson: We do our best.\nHomer Simpson: So you're just a little bit jealous and you don't know if I'll teach you anything at all?\nMarge Simpson: We don't need a teacher at all. (SOTTO) I know, Homer. We've been together for fifteen hours.\nHomer Simpson: We're not even friends anymore.\nLisa Simpson: I wonder what else we've lost.\nLisa Simpson: We didn't even hang out together in college.\nHomer Simpson: I'm sorry, Homer. I guess I'll just have to see how this goes.\nLisa Simpson: How about we go to church again?\nHomer Simpson: Yay!\nLisa Simpson: (BEAT) What does that even mean?\nHomer Simpson: I mean it! It makes me so happy.\nHomer Simpson: (SOTTO) (READING) \"RIGHTENING THROUGH MY HORN: THIS COMES INTO MY LOVELY LIFETIME.\"\nHomer Simpson: (SOTTO) Well... I do my best.\nMarge Simpson: (SOTTO) Well...\nLisa Simpson: (SOTTO) We're having some fun.\nMarge Simpson: Well, yeah.\nLisa Simpson: (MISS) I've never been as good as I've been, but we can do better.\nHomer Simpson: (SOTTO) Well,\nCheckpoint ./storage/models/batch/gpt_script_epoch_8_batch_24000.bin is succesfully saved.\nEpoch number : 9\nSummed loss : 266.12771117687225\nOutput:\n----------------------------------------------------------------------------------------------------\n0:  posting of a boy trying to take a nap during one of his school activities (hoo-ha-haw, he's the best) is exactly the kind of thing a teacher should be teaching us to do.\nBart Simpson: (SADLY, BORED) Homie, you're an adult right?\nBart Simpson: (ANNOYED) Ooo, she thinks I'm nuts. I thought I was crazy for giving her a birthday present. I guess I'm too young to have that kind of thing.\nBart Simpson: (CHUCKLES) How sweet of you!\nHomer Simpson: (CHUCKLES) Now if I'd gotten out of bed at midnight, I'd just be a boy and have a few hours to myself to enjoy all of my school fun.\nHomer Simpson: Why do we all think that's so weird?\nHomer Simpson: (ANNOYED NOISE) Uh, that's very different than any other time I've been here.\nMarge Simpson: Are you sure you don't think that's weird?\nMarge Simpson: (SCREAMS) I hate the sound of you screaming at me!\nBart Simpson: I am an adult not an adult! I'm an adult for you!\nBart Simpson: Yes. But if I want to be an adult I need to be prepared, and ready to make the right choices.\nBart Simpson: (HAPPILY) You see, in order for me to be an adult I have to give myself some power and wisdom. And that's okay, I'll do my best to do the best I can. But I'm not that guy.\nMarge Simpson: I can't stand the thought of my husband getting older, or the thought that Dad will be getting older.\nBart Simpson: I didn't say I could be an adult.\nMarge Simpson: Oh, sure. And I love what you're saying, but do you really think I'm an adult anymore?\nLisa Simpson: It's a fair question. What about you?\nBart Simpson: Yes, that's right. And that's why when you say \"adults,\" you're calling me.\nHomer Simpson: (TO MOM) Oh no. You're talking about the \"re-education,\" too.\nMarge Simpson: No, it's about the \"new\"\nCheckpoint ./storage/models/batch/gpt_script_epoch_9_batch_24800.bin is succesfully saved.\nSummed loss : 264.5477514863014\nOutput:\n----------------------------------------------------------------------------------------------------\n0:  Estoningan) And they're getting married.\nHomer Simpson: Don't give up, sweetie. You've just got to remember, in this kind of state, when you need a drink, you'll have a glass of wine and at least one beer in there.\nMarge Simpson: (TO EASTHARTY) What about you?\nHomer Simpson: Okay, let's leave Springfield.\nHomer Simpson: (QUICKLY) Yeah. Let's get out. We can't go out at night.\nHomer Simpson: So where's my water? I'm worried that there's going to be water in my eyes.\nHomer Simpson: Oh. Well, it's kind of a weird smell. I don't know what it is...\nHomer Simpson: (GASPS) Look who's staring at my reflection in here...\nHomer Simpson: (CASUAL) Oh boy, this is crazy...\nHomer Simpson: (FRAGHT, CHUCKLE) Wow... I can't believe how much I'm gonna lose.\nHomer Simpson: (LOOKING OUT) Oh, wait... here's a bottle of wine...\nHomer Simpson: (REALIZING) I've been drinking, but I have to drink at home. (HANDING) Why wouldn't I like to make an appointment?\nHomer Simpson: (POINTING) The doorbell rings and I'm in the closet!\nHomer Simpson: (TURNING OFF PAIN) Don't worry, honey. I can get you to a place where we'll be out of trouble.\nHomer Simpson: (COCKY) Well, I'm sorry honey. We never had to drive to the store.\nHomer Simpson: (GASP) That's ridiculous, that's ridiculous, I think we're driving down a deserted road, and then some freak accident happens. I'm glad we escaped.\nHomer Simpson: (COVERING) Fine, I'll just go to a house just a few blocks from where I'm hiding out.\nHomer Simpson: (CATCHING) Mom, that's crazy!\nHomer Simpson: (HUMBING) Yeah, yeah, yeah, I'm okay.\nHomer Simpson: (HALORABLE) What the hell am I doing here?\nMarge Simpson:\nCheckpoint ./storage/models/batch/gpt_script_epoch_9_batch_25600.bin is succesfully saved.\nSummed loss : 264.9496670663357\nOutput:\n----------------------------------------------------------------------------------------------------\n0: between, on one hand, and on the other hand, not sure whether the two sides are equally valid).\nHomer Simpson: (HORRIFIED) Homie, I don't think I've ever heard you say that to a child.\nLisa Simpson: Mom, I've gotta ask the court to reconsider.\nMarge Simpson: (REALIZINGLY) That's the right answer. I can't forgive myself. But I won't lie. I did it because I knew you hated me.\nHomer Simpson: Homie, that's what's driving you.\nMarge Simpson: I don't think it's fair.\nMarge Simpson: Don't listen to me, Homie.\nHomer Simpson: Marge, you don't want to believe me.\nHomer Simpson: Marge, I've got two tickets here. You're right.\nMarge Simpson: (TACKLED) Why don't we get the tickets together?\nHomer Simpson: And don't you ever miss an opportunity to make love?\nMarge Simpson: Oh, no, I can't.\nHomer Simpson: And then you went right off with your ticket.\nMarge Simpson: What the?\nHomer Simpson: That's not romantic.\nMarge Simpson: Homer! Listen, Homie, I was just watching that last episode of Homie's Dad. (PANICKILY) Look, Mom, you know what happens when the husband is a man? The guy who shows up at work, just to make us laugh, takes over the work. So it's okay to be with him.\nHomer Simpson: (SHRUGS HIS HEAD) Sorry, but I had no idea.\nHomer Simpson: Mom, I guess you did too.\nHomer Simpson: I bet they'd be happy to get rid of all this nonsense. (SCREAMS) Oh, Marge, that really hurt me.\nHomer Simpson: All right!\nMarge Simpson: Well, if you don't want to let me show you around again, I'm gonna have to take you in on an audition.\nMarge Simpson: (WITH DIRTY PASTING) Homie? That's the answer.\nMarge Simpson: That was your first love!\nHomer Simpson: Marge, it was wonderful! I always loved to go to my\nCheckpoint ./storage/models/batch/gpt_script_epoch_9_batch_26400.bin is succesfully saved.\nSummed loss : 262.6820031404495\nOutput:\n----------------------------------------------------------------------------------------------------\n0:  Caribbean, they won't be so surprised by your story.\nHomer Simpson: I guess you can't blame me. You've lived my life a way better than I did, you know?\nHomer Simpson: It's my fault, honey, but I feel pretty bad for them. I had to tell them what I had to.\nHomer Simpson: You know what? You've really only got enough money to pay for things I made, like school and food. But we have plenty to feed our family.\nLisa Simpson: You'll be proud to watch, Dad.\nHomer Simpson: (COCKY) I really hope you don't mind, honey, you can't really be a father to a baby.\nMarge Simpson: Homer, could we...\nHomer Simpson: (BEAT) Oh, right, honey. That's great, honey.\nMarge Simpson: (FRUSTRATED) I don't feel that way, can I?\nHomer Simpson: Oh, no. It's really just a nice surprise. But I guess this should help.\nHomer Simpson: Yeah, it's okay. I'll do anything.\nMarge Simpson: Oh, my. Now then, Dad. Can you make that one for me?\nHomer Simpson: (SWEETLY) Well, if that sounds really like a babysitting job.\nMarge Simpson: What, Mom? How did you get here?\nHomer Simpson: (TO HERSELF) I just... (EXCITED) I feel... kind of helpless.\nMarge Simpson: I feel helpless?!\nMarge Simpson: It was your fault, Dad.\nHomer Simpson: No, Mom, that's right.\nMarge Simpson: (LOOKING AT HER SIDE) Yeah, I'm glad you did.\nHomer Simpson: Mom, I don't really feel like... okay.\nMarge Simpson: You know, Dad can see me like this whenever he wants. You know, when he wants to be like...\nHomer Simpson: (TURNS TO SCREW-OUT) Dad?\nHomer Simpson: (COVERING UP) You could be a boy.\nHomer Simpson: (CHUCKLES) It could all go to hell.\nMarge Simpson: Dad, I have a feeling a lot of people are going crazy just\nCheckpoint ./storage/models/batch/gpt_script_epoch_9_batch_27200.bin is succesfully saved.\nEpoch number : 10\nSummed loss : 263.58257611095905\nOutput:\n----------------------------------------------------------------------------------------------------\n0: original first-year at his new high school.\nHomer Simpson: Okay, boy.\nHomer Simpson: So, my second year at your school, I'm going to take a bunch of calculus.\nHomer Simpson: Now this is not a slam dunk.\nHomer Simpson: (HURT) You said that before I got a first-year GPA? (TO GASP) Yes it is!\nHomer Simpson: Wow. Now, can we see you play hockey? (SMILES WISTFUL) How many hockey?\nBart Simpson: (NOTHING AT ALL) (TO BALD LAURY, VOICE-GANG-HURT) \"I'm going to go to the ice.\"\nHomer Simpson: Hey, what can I do?\nLisa Simpson: You'd be proud to play the best hockey of all time if you got it on the ice!\nBart Simpson: Oh yeah? Hey, I'm not one of those stupid kids with the big guns...\nLisa Simpson: Don't worry about it, Homer, I was just giving out hockey cards.\nBart Simpson: So, where are I going to go, to your ice hockey game?\nHomer Simpson: Oh yeah, the one that's best for me. (TAKEN) Where are I going, Lisa?\nBart Simpson: I want the puck, right?\nLisa Simpson: I have no puck.\nLisa Simpson: No problem. (TO BART) So, what do you do with your own puck?\nBart Simpson: What about your own skate? I know you like it in the back, but...\nLisa Simpson: (CALLING TO BART) Where's my skate?!\nBart Simpson: Now, Lisa, you know how I want my own skate. In my car.\nLisa Simpson: Not the same as your skate. (HOPEFUL) Yes.\nLisa Simpson: So, in your car, where are you going to skate?\nBart Simpson: (SINGING) I'LL GO TO THE CAR!\nLisa Simpson: It's Lisa! We'll skate!\nLisa Simpson: (SINGING) \"THE LISA-YU-MOOH\"\nBart Simpson: Oohhh! The \"Moe\" is there, Lisa! Where the LISA-YU-M\nCheckpoint ./storage/models/batch/gpt_script_epoch_10_batch_28000.bin is succesfully saved.\nSummed loss : 261.28796504437923\nOutput:\n----------------------------------------------------------------------------------------------------\n0:  winds (which is quite a feat for a boy) and he says that \"I won't take you on a hike!\"\nMarge Simpson: Oh, I never thought this could happen. It's too close to home.\nHomer Simpson: Oh, and no one will ever forget how brave Homer was to get back at our mother in the first place.\nBart Simpson: Dad?\nHomer Simpson: (TO PHONE) Homer, Dad...\nMarge Simpson: (SIGHS) You're not sure how you felt about me.\nBart Simpson: Mmm, sure.\nBart Simpson: Mmm...\nBart Simpson: Uh... Mmm...\nBart Simpson: Huh? I've always wanted to go back, like that!\nMarge Simpson: Oh, I'm not sure that I can, but Bart's a man.\nBart Simpson: (TO HIMSELF) Hey, my dad's like that, too.\nHomer Simpson: (SINGING) THE FLASH THAT NO LONGER SEES\nBart Simpson: YEAH!\nBart Simpson: What the?\nBart Simpson: What the?\nMarge Simpson: Oh, I didn't like the old guy.\nMarge Simpson: You were great.\nBart Simpson: (STICKING HER HEAD) Well.\nBart Simpson: This is where they are now. We're at the very end of a cul-de-sac.\nHomer Simpson: Oh, you're just a little off. It's only three o'clock in the morning and I'm going to... stop driving.\nBart Simpson: (IMPRESSED) (SHOWGASP) Oh, I don't need you anymore. (TO BART) Uh-oh.\nHomer Simpson: (SHOWGASP) You're okay.\nBart Simpson: (SHOWGASP) Now you've got to go get your stuff.\nHomer Simpson: It's the wrong place.\nBart Simpson: (LOOKING AT TABLE) This is the one.\nHomer Simpson: (WHISPERS) The right way?\nMarge Simpson: It's funny. I thought the boy had no idea.\nMarge Simpson: But what about that one where we're two hours away from Moe's place and a family that\nCheckpoint ./storage/models/batch/gpt_script_epoch_10_batch_28800.bin is succesfully saved.\nSummed loss : 261.9813238084316\nOutput:\n----------------------------------------------------------------------------------------------------\n0: fre) You're gonna get all those problems. (SPEAKING) Well, my father's in prison.\nBart Simpson: Mr. Hoover, if we're not doing our jobs, what am I doing here?\nMarge Simpson: No worries! I'll work you over.\nHomer Simpson: (PANTING) Hey! (ANNOYED SHORTS) I want you to take your stuff home!\nMarge Simpson: Oh!\nHomer Simpson: (TENTATIVELY) What the hell are you doing here? I just saw a movie!\nMarge Simpson: (READS) \"The Man Who Lost His World\" by Edgar Allan Poe!\nHomer Simpson: Uh huh. That's it. What did I do there?\nMarge Simpson: (STUNNED) \"Invisible Man,\" \"Savage Love,\" \"Sex-Ed,\" \"Lumberjack,\" and other films by Robert E. Lee.\nMarge Simpson: (READS) \"I'm a monster man... a monster who lost his world to me, and I've forgotten everything I did in my life.\"\nHomer Simpson: A big fat man?!\nMarge Simpson: (GASPS) I can hear that.\nHomer Simpson: (THROUGH EYES) Wow, that's awesome!\nHomer Simpson: Well, in my day, I had a million ideas about how to make America great again!\nMarge Simpson: Well, okay, I think it would be a shame if a little bit of evil didn't sneak in and fill it with evil.\nMarge Simpson: (GASP) Look, if it doesn't look like this guy has no heart, how could he?\nMarge Simpson: Well, I guess I have to stop making movies about people you hate and maybe have a good heart, and start making movies about people you love.\nHomer Simpson: (TOUCHED) Well, I have a job here, and I'm not even a movie maker. (STERNLY) But I do want to make movies like \"The Killing Fields.\"\nMarge Simpson: (READING) \"To those who've been forgotten: I would like to say the most important thing in my life to those who've not been forgotten. I think it's important to start a dialogue with people who can't remember anything. What\nCheckpoint ./storage/models/batch/gpt_script_epoch_10_batch_29600.bin is succesfully saved.\nEpoch number : 11\nSummed loss : 260.59346133470535\nOutput:\n----------------------------------------------------------------------------------------------------\n0:  conc. Well, this is great.\nMarge Simpson: It's really fun, Dad.\nHomer Simpson: I'll never make it.\nHomer Simpson: I bet you two are too cute. I bet you two are too old.\nHomer Simpson: It's so romantic.\nMarge Simpson: (CHUCKLES) But she's older than you and she's pretty fat.\nHomer Simpson: Oh, she's fat.\nMarge Simpson: (CONFUSED NOISE) Well, you don't really want her around. You can still play.\nHomer Simpson: (TO MARTIN, \"FASHION\" LISTENING) Oh, how 'bout...\nHomer Simpson: (EXCITED) What the?\nLisa Simpson: Mr. Simpson, I love you all so much. You're always on my mind. Why don't you come over now?\nHomer Simpson: But he's very old for me. He's just so full of hormones and hormones, and he doesn't care about you. (CALMLY) No, he does care about you too, he hates me, and he won't let me play with him if I get pregnant again.\nHomer Simpson: (HORRIFIED NOISE, THEN:) No way, Mom!\nHomer Simpson: (EXCITED NOISE, THEN:) I'm sorry.\nHomer Simpson: (SCARED NOISE) No!\nLisa Simpson: (EXCITED NOISE) Homer, stop. (SCARED NOISE) No!\nLisa Simpson: I'm not worried. I'm not worried. I'm all in favor of... (EXCITED NOISE) No!\nHomer Simpson: (WORRIED NOISE) No!\nLisa Simpson: (GIVING IT A MOCK SIGH) I feel so sorry for you.\nHomer Simpson: (GIVING IT A MOCK SIGH) I'm not sickened by this. I'm happy with you.\nHomer Simpson: (AFFECTED NOISE) So this will take a while.\nHomer Simpson: (MOCK SIGH) I can't do this without some friends.\nHomer Simpson: (MOCK SIGH) (HAPPY) I'll be back!\nLisa Simpson: Don't worry\nCheckpoint ./storage/models/batch/gpt_script_epoch_11_batch_30400.bin is succesfully saved.\nSummed loss : 261.7303117364645\nOutput:\n----------------------------------------------------------------------------------------------------\n0: itic in the last generation is a dangerous creature that could bite you twice, and then when the next generation comes, it's yours. (REALIZING CHUCKLES) Oh, we have some fun talking now.\nLisa Simpson: What's the deal?\nHomer Simpson: We've been in this situation for hours.\nHomer Simpson: (TOWARD CREDIT CARD) Well, you wouldn't believe what we got. I did get a free copy of \"Gran Turismo.\" (DISTRAUGHT NOISE) Wow, what a load of crap that is.\nHomer Simpson: I'll get in the car, my friends, and I'll get in the car, my friends.\nLisa Simpson: I think you'd do anything for that.\nMarge Simpson: (TIGHTENING UP, THEN GASP) It's a lot like \"Pilot.\" It's the whole point of this car thing.\nBart Simpson: (GASP) Oh, they say it all the time.\nBart Simpson: (LOUD WORD) The car is awesome.\nLisa Simpson: No matter what -- I mean, they're all right with this. I can't wait to get my first taste of it.\nBart Simpson: (GRUNTS) That's my best boy.\nLisa Simpson: (SURPRISED NOISE) Yeah, he had the \"Giraffe.\"\nLisa Simpson: (LOUD WORD) Dad, why am I still here?\nBart Simpson: A car is better than nothing.\nLisa Simpson: He said I could go to the movies with him.\nBart Simpson: Uh, I guess it is.\nLisa Simpson: (WORRIED) My dad's such a good dad, he can say things like \"he's your father.\"\nLisa Simpson:...and we were doing \"The Milhouse Show\"...\nLisa Simpson: (SHRIEKS) My dad gave us our first chance to film, and the results were really, really good.\nBart Simpson: (TO JOE) That's what \"Marge's Little Helper\" was!\nLisa Simpson: Dad said I should have taken care of that guy -- (GROWING CHUCKLE) Okay, we're done!\nLisa Simpson: So did my parents.\nBart Simpson: Lisa\nCheckpoint ./storage/models/batch/gpt_script_epoch_11_batch_31200.bin is succesfully saved.\nSummed loss : 259.6685603260994\nOutput:\n----------------------------------------------------------------------------------------------------\n0:  Harp.\nHomer Simpson: (SADLY) Look, I'm sorry, I shouldn't be here. I'm not a police officer. I'm just a member of a community.\nMarge Simpson: (TO MILHOUSE) Look!\nMarge Simpson: (SNIFFS, MADE) Look!\nHomer Simpson: (WORRIED) Oh! Oh. Oh. Oh. Oh. Oh. Oh.\nHomer Simpson: Hey!\nHomer Simpson: Wow, this is really amazing.\nMarge Simpson: (GASPS, THEN) There are just so many ways these things might work.\nHomer Simpson: (QUICKLY) There's the microwave, there's the refrigerator. There's the bathroom... and there's...\nMarge Simpson: (TO MARGE) You wanna know what's happening? It's a whole generation of nerds that I've never met.\nHomer Simpson: There's never been anyone like me before.\nMarge Simpson: I knew you were nerds back then.\nHomer Simpson: (POINTED) That's why you can't find me at all.\nMarge Simpson: Oh, that's not true. I just have something for you and your children.\nHomer Simpson: (CUTTING HOMER) Dad!\nHomer Simpson: You can still hear him at night, I love it when he says \"no.\"\nMarge Simpson: Oh my God! That's a genius! (LOOKS IN HIS BACK CHIPPER, FLIPS UP) Oh my God! That's so cool!\nHomer Simpson: Hey, don't worry, Mom. You'll get a heart attack just thinking about it.\nLisa Simpson: What's wrong?\nHomer Simpson: She's not getting a heart attack.\nLisa Simpson: (SADLY) Well, we need a pacemaker.\nHomer Simpson: So, let's get on the couch.\nLisa Simpson: (UNIMPRESSED NOISE) Okay.\nHomer Simpson: Yeah, she's getting a heart attack. (HURT, TO MARGE) So, please put her on a cot -- no --\nHomer Simpson: (TO MARGE, ANGRILY) You saved the world.\nMarge Simpson: Oh, Dad! Just remember that!\nHomer Simpson\nCheckpoint ./storage/models/batch/gpt_script_epoch_11_batch_32000.bin is succesfully saved.\nEpoch number : 12\nSummed loss : 259.74451449513435\nOutput:\n----------------------------------------------------------------------------------------------------\n0: puted, we're gonna make it to the top.\nMarge Simpson: I'm tired of having to do it!\nHomer Simpson: Noooo, we'll get to work!\nBart Simpson: Hey, don't you think your car's a little rusty or something?\nHomer Simpson: (ANNOYED SOUND) Mmm, your hair is just right.\nHomer Simpson: Mmm, and when we get home, the car will all be back to normal.\nHomer Simpson: Oh, thank you, Mom. You're a real good driver.\nLisa Simpson: Dad, my dad has no idea what's happening.\nHomer Simpson: (SCORNISED) He did it to you, Mom? You're trying to hide it, aren't you?\nHomer Simpson: It was a trick, Mom. I was trying to hide it... in fact, the whole thing was really really funny.\nBart Simpson: Uh-oh, Bart, get in the car. (LAUGHS) Homer, you sure were a great guy, Dad.\nBart Simpson: Oh Dad, Bart, you're so glad you weren't hurt in that car accident. I thought you did well in school, and that's all you can remember.\nMarge Simpson: Homer, you're a good guy. You do that every day, and you have great dreams. But what's going on here? How's something that you've accomplished for so long?\nBart Simpson: Dad, you know me better than anyone. I don't have a problem saying I did good things to you, but sometimes you have to say something that isn't even true.\nHomer Simpson: (STERNLY) The truth's out there, Mom. It's real.\nMarge Simpson: I never had to get my car in a dump because...\nHomer Simpson: My car was all wrecked when we were in school...\nMarge Simpson: Dad, Dad, the truth's out there. It's real. And you guys have every right to see it. I'm trying to turn that thing back into a fun little vacation thing for my kids.\nHomer Simpson: (CHUCKLES) I need someone to turn that car back into a fun little vacation thing for my kids.\nMarge Simpson: Dad, Dad, no way will that happen.\n\nCheckpoint ./storage/models/batch/gpt_script_epoch_12_batch_32800.bin is succesfully saved.\nSummed loss : 257.4899972230196\nOutput:\n----------------------------------------------------------------------------------------------------\n0:  wolves and rabbits. I can't sleep without sleep pills.\nMarge Simpson: Ow. We're a family, honey. That is our special little family.\nMarge Simpson: (GROWING UP) I am.\nHomer Simpson: No way!\nMarge Simpson: (RELIEVED) I know.\nHomer Simpson: How do you do that?\nMarge Simpson: Yeah, you suck.\nHomer Simpson: Well, how about a lot of people? I can't afford a family of six. If you just live in a fancy place like our family's family, you can afford to live in a nice neighborhood.\nMarge Simpson: (GROWING UP) This is no problem! I'll be fine if I'm having some fun. But that's not good for me.\nMarge Simpson: (THROUGH CAGE) Dad, it's a horrible world you lived in when I was a child.\nHomer Simpson: (READING BOOKS, GASPS) \"My father lost his job as a truck mechanic in the middle of the night and fell in love with my sister-in-law and went to live there...\nHomer Simpson: (READING BOOK) \"My father lost his job as a truck mechanic in the middle of the night and fell in love with my sister-in-law and went to live there...\nHomer Simpson: (READING BOOKS) \"My father lost his job as a truck mechanic in the middle of the night and fell in love with my sister-in-law and went to live there...\nHomer Simpson: (READING BOOKS, GASPS) \"My father lost his job as a truck mechanic in the middle of the night and fell in love with my sister-in-law and went to live there...\nHomer Simpson: (READING BOOKS, GASPS, THEN HOLDING BOOK, THEN HOLDING BOOK, THEN HOLDING BOOK, THEN HOLDING BOOK, THEN HOLDING BOOK, THEN HOLDING BOOK, THEN HOLDING BOOK, THEN HOLDING BOOK, THEN HOLDING BOOK, THEN HOLDING BOOK, THEN HOLDING BOOK, THEN HOLDING BOOK, THEN HOLDING BOOK, THEN HOLDING BOOK, THEN HOLDING BOOK, THEN HOLDING BOOK, THEN HOLDING BOOK,\nCheckpoint ./storage/models/batch/gpt_script_epoch_12_batch_33600.bin is succesfully saved.\nSummed loss : 258.4573516100645\nOutput:\n----------------------------------------------------------------------------------------------------\n0:  coincidence (SICKILY) What? What did you say? That's my daughter?\nLisa Simpson: You're right. I think it was a mistake.\nLisa Simpson: (TO MARGE, EITHER) We are lovers... we have a very special marriage... and I'm sorry.\nBart Simpson: Hey, just tell them you love me.\nLisa Simpson: (READING) I love you too, Bart. And I'd like to go back here to pick you up.\nLisa Simpson: I'm sorry, Bart. I love you so much.\nBart Simpson: I wish I'd known you were coming home to me.\nBart Simpson: I'd be so kind to you, if I could just remember, I could really, really help you. I couldn't remember your name.\nBart Simpson: You're wrong.\nBart Simpson: (ANNOYED) I'm sorry... but, Lisa, this is no fun.\nLisa Simpson: What?! Stop fighting!\nBart Simpson: I love you too. Now.\nLisa Simpson: Why didn't you do the same, son?\nBart Simpson: You know you can do whatever you want.\nLisa Simpson: You can't do it to my son, Lisa.\nLisa Simpson: Bart, can you say anything to stop my husband? I'm sorry...\nLisa Simpson: (ANNOYED SOUND) Oh, sorry...\nBart Simpson: I can't keep up.\nLisa Simpson: What?\nBart Simpson: (GIGGLES) Oh, yeah. I'll show him you some of my favorite things.\nLisa Simpson: (SUDDENLY) You're kidding!\nBart Simpson: I can't. Why do you want to do something?\nBart Simpson: (SUSPICIOUS NOISE) Lisa, my dear, the house's a joke! (BITTERLY) It doesn't matter if it's because I'm gay or a lesbian. It's your marriage.\nLisa Simpson: (SINGING) I LOVE YOU / LET ME / TOGETHER / NOISE OF A CHINESE BALL -\nBart Simpson: (SHOCKED) The same old, old, old. (BEAT) It's a wonderful thing to have a woman in my life.\nHomer Simpson: Don't worry\nCheckpoint ./storage/models/batch/gpt_script_epoch_12_batch_34400.bin is succesfully saved.\nSummed loss : 259.30955800414085\nOutput:\n----------------------------------------------------------------------------------------------------\n0: �? (SADLY) You mean \"Homer Simpson?\"\nHomer Simpson: (SAD) You know, we can't have Homer as his heir and see where our problem lies. But this guy seems like the kind of guy who could learn something from the things that are happening.\nHomer Simpson: (SADLY) My brain just keeps trying to figure it out... and that's probably how I got into this kind of thing.\nLisa Simpson: I don't understand.\nMarge Simpson: He'll understand.\nHomer Simpson: (SADLY) My brain just keeps trying to figure it out... and that's probably how I got into this kind of thing.\nMarge Simpson: Okay, well, we're not going to be able to put out fires until we figure out a way to make it stop. So... let's go upstairs... and talk to the guys who are still living with us. I want you to tell us about all the troubles you've had here... not just the one with you that killed our father.\nHomer Simpson: (SADLY) I guess I'll just have to ask for it in the kitchen.\nMarge Simpson: Okay.\nHomer Simpson: (SADLY) Well... you know, I'm glad I could help you out.\nHomer Simpson: (SADLY) Okay. And... one more thing. This time, I want you to think about what happened in your first day at work.\nHomer Simpson: Uh, what happened to that boy.\nMarge Simpson: Don't look at him now, Dad. You know, he's a very nice boy. He always plays with me.\nHomer Simpson: (INTO PHONE) I don't want to hear anything from you.\nMarge Simpson: Homer, this is the last time I will be watching TV. I don't want anyone watching TV to look at my house, so I'm going to have to go see Homer.\nHomer Simpson: (HORRIFIED PAPER) No, please, stop it.\nMarge Simpson: I can't be your boyfriend anymore.\nHomer Simpson: No, wait! There's no way I'm your boyfriend anymore! It is so much easier to have sex now.\nMarge Simpson: Hm, how about watching TV again?\nHomer Simpson:\nCheckpoint ./storage/models/batch/gpt_script_epoch_12_batch_35200.bin is succesfully saved.\nEpoch number : 13\nSummed loss : 257.06703755259514\nOutput:\n----------------------------------------------------------------------------------------------------\n0: Row, why don't you take me to the airport?\nHomer Simpson: Yes, that's right. I'll take you to the airport and then I'll take you to a museum where you can see the last of the dinosaurs.\nLisa Simpson: (SINGS) \"BONUS PASTERS OF THE DINOSAUR: THE DINOSAUR, THE GALAXY SOUND OF THE COWD / THE COWD NOISE OF THE DINOSAUR THE COWD NOISE OF THE DINOSAUR THE COWD NOISE.\" (SINGS) \"COWD NOISE OF THE DINOSAUR THE DINOSAUR THE COWD NOISE OF THE DINOSAUR THE COWD NOISE OF THE DINOSAUR THE COWD NOISE OF THE DINOSAUR.\" (SINGS) \"HORRIFIED WHISTLES WITH WHISTLES.\"\nBart Simpson: (SINGS) \"COUGH THE RIVER... DOPEY\"\nLisa Simpson: (SINGS) \"COUGH THE RIVER... DOPEY-DOPEY, DOPEY... DOPEY-DOPEY, DOPEY-DOPEY-DOPEY...\nLisa Simpson: (SINGS) \"SWEETLY SWEETLY SWEETLY SWEETLY SWEETLY SWEETLY SWEETLY SWEETLY SWEETLY SWEETLY DOPEY\"\nLisa Simpson: \"SWEETLY SWEETLY SWEETLY SWEETLY SWEETLY DOPEY.\"\nBart Simpson: (SINGS) \"SWEETLY SWEETLY SWEETLY SWEETLY SWEETLY DOPEY.\"\n\n\nLisa Simpson: \"...so... you're the best friend I ever had...\"\nBart Simpson: (SINGS) \"SWEETLY SWEETLY SWEETLY SWEETLY DOPEY.\"\nLisa Simpson: \"...so... you're the best friend I ever had...\"\nBart Simpson: (SINGS) \"SO... YOU ARE THE BEST GUY EVER...\"\n\n\nLisa Simpson: \"...so... you're the best friend I ever had...\"\nBart Simpson:...so... you're the best\nCheckpoint ./storage/models/batch/gpt_script_epoch_13_batch_36000.bin is succesfully saved.\nSummed loss : 257.3557706773281\nOutput:\n----------------------------------------------------------------------------------------------------\n0: Edit: (CALMLY) Why don't you eat applesauce and gravy?\nLisa Simpson: We've seen them before -- they're all over the place...\nLisa Simpson: (COVERING) Oh no!\nMarge Simpson: And now what the hell am I gonna do?\nLisa Simpson: Don't worry, honey, it's okay. I'll go get her a drink.\nBart Simpson: Oh, my God, they're making me vomit!\nHomer Simpson: What the?!\nBart Simpson: (INTO PHONE) Hmmmm...\nHomer Simpson: (TO PHONE) Uh, what's that, a hush?!\nMarge Simpson: (MUTTERING) But it's gonna be soooo fun! We're having fun with you!\nMarge Simpson: (THINKING, THEN) Well, I bet the dog just started vomiting.\nMarge Simpson: (INTRIGUED) You think so?\nHomer Simpson: Yes! It could be that, because I have a very strange stomach.\nMarge Simpson: I'm sure he's feeling pretty good at the gym right now.\nHomer Simpson: Well, it could be.\nMarge Simpson: Well, I would agree. It could be the most fun I ever had.\nHomer Simpson: (CHUCKLES) It's like a game of tag!\nMarge Simpson: How fun is that?\nHomer Simpson: No, no, no. I mean... you are... (WAVING A CRITICAL CHIPPER)...\nMarge Simpson: Homer, you just have a really good stomach.\nHomer Simpson: (CHUCKLES) You know where I'm going?\nMarge Simpson: Homer, you just have a really good stomach.\nHomer Simpson: (CHUCKLES) Uh-huh.\nHomer Simpson: (THUNDERING ANOTHER STUB)...and... (THINKS)...and... (THEN, UNDER HIS MARGE GRAVE)...\nMarge Simpson: But Homer, this is the kind of thing you never have to be upset by.\nHomer Simpson: Um... how do I do that?\nMarge Simpson: No problem.\nHomer Simpson: But the biggest problem is the stomach.\nMarge Simpson: No\nCheckpoint ./storage/models/batch/gpt_script_epoch_13_batch_36800.bin is succesfully saved.\nSummed loss : 256.4187770783901\nOutput:\n----------------------------------------------------------------------------------------------------\n0: eval?\nHomer Simpson: There's no need for that. We're gonna go find the guy who stole the candy from those cats.\nBart Simpson: Hey, wait!\nHomer Simpson: (QUICKLY) Here's what the money says. If you get any more money then you're a cheater!\nBart Simpson: Hey, what are we gonna do?\nHomer Simpson: (GASPS) Ooo, a dollar!\nHomer Simpson: I'm gonna run.\nBart Simpson: That's a sign! Hey, a dollar!\nHomer Simpson: But what kind of a dog was that?\nHomer Simpson: You're gonna get me the candy!\nHomer Simpson: Ow!\nHomer Simpson: (CHIPPER) Oh my God, you really got him!\nHomer Simpson: I'm not going to let that girl hurt me.\nBart Simpson: Hey, Mom, how come you haven't gotten the candy?\nMarge Simpson: Oh, Bart, I thought we went to see Bart eat at the bar!\nBart Simpson: Hey Mom, look how he keeps his mouth shut!\nLisa Simpson: Mom! Dad told you to stop!\nLisa Simpson: Dad just has to find the candy!\nHomer Simpson: (LOOKS AT HOMER'S SCREEN) And you don't want that.\nLisa Simpson: Dad says we'll get rid of the candy if he's got the money.\nHomer Simpson: (CALLING IN) Lisa?\nLisa Simpson: Dad's got the candy!\nLisa Simpson: Dad's got the candy!\nHomer Simpson: (ANNOYED NOISE) How are you gonna get that money?\nLisa Simpson: I have no money. I've gotta get that money back!\nBart Simpson: I don't know who told you to stop, I just have to find the candy!\nHomer Simpson: No one is going to stop me! I can't stop my mom!\nMarge Simpson: Don't you care?\nHomer Simpson: Oh, they're still alive.\nMarge Simpson: (STAGY) I don't want a guy that looks like Homer Simpson to kill me.\nHomer Simpson: You can't beat a man. We're gonna have to be on the safe side.\nCheckpoint ./storage/models/batch/gpt_script_epoch_13_batch_37600.bin is succesfully saved.\nEpoch number : 14\nSummed loss : 256.6259139031172\nOutput:\n----------------------------------------------------------------------------------------------------\n0:  carefully's got a wife, and she'll be good for a little while.\nMarge Simpson: But why do she need to be there?\nHomer Simpson: (DISAPPOINTED) Oh, I don't know.\nMarge Simpson: (EXCITED) Homer, who are you?\nHomer Simpson: No thanks.\nMarge Simpson: (CALLING FOR MARGE) Where are you going?\nHomer Simpson: (DISMISSIVE) I'm not mad at you, Marge. But, you've gotta understand that it is very possible to end up in a lot of bad situations. And in fact, if you want to learn how to deal with that, you have to read a book.\nMarge Simpson: (DISTRACTED) You're right, Homer. I've learned everything I need to know about the road to happiness.\nHomer Simpson: (SWEETLY) My wife's fine.\nMarge Simpson: Look at me. I'm not making up. I'm just... I got a phone that just works for me.\nHomer Simpson: Wow... that's nice.\nMarge Simpson: (DEEPLY) (GASPS) I'm so sorry. I just can't sleep through all the hard work.\nMarge Simpson: (FONDLY) I won't tell her that.\nHomer Simpson: Well, you don't have to do that. She can follow her dreams. And she'll come to life.\nMarge Simpson: I've found something very helpful.\nHomer Simpson: Well, if I don't do anything, I really do deserve better than nothing.\nMarge Simpson: (CALLING FOR MARGE) Homer, what a great chance we have!\nHomer Simpson: (FURIOUS) Okay.\nHomer Simpson: Marge, I think it's best if you don't do it right. Now please come on.\nMarge Simpson: Come on, honey. You didn't mean to upset your wife.\nMarge Simpson: (DISTANTLY) Now the only thing I can do is help you. Please, stay in touch. This is just a part of my recovery.\nHomer Simpson: (TO MARGE) How do you know?\nMarge Simpson: (MURMUR) Look at those things you did to\nCheckpoint ./storage/models/batch/gpt_script_epoch_14_batch_38400.bin is succesfully saved.\nSummed loss : 253.68420830368996\nOutput:\n----------------------------------------------------------------------------------------------------\n0: dri...\nBart Simpson: Oh, I'm in trouble, man.\nLisa Simpson: Dad, that's impossible. Why do you have to be so damn stupid and lazy?\nBart Simpson: It was because I hated the car.\nBart Simpson: Yeah, yeah, yeah.\nBart Simpson: (HORRIFIED GASP) What?\nLisa Simpson: I know you're asking, but I feel something I did, isn't this about me?\nLisa Simpson: You're not my father, are you?\nBart Simpson: Why do I feel something I did?\nLisa Simpson: Why are you telling me I'm not yours, is it?\nLisa Simpson: (READING) \"You cannot take money in exchange for my participation in this program. And I accept no liability for any loss of such money. All debts, even those that I am not responsible for, shall never be paid to you by me.\"\nBart Simpson: (CHUCKLES) You know what I mean? I'm not your father! I don't take this nonsense!\nLisa Simpson: Yes, Dad, that's a lie.\nBart Simpson: Look, there's nothing wrong with me -- I've got my own life. Just like my mother and father...\nBart Simpson: I will always have that memory.\nBart Simpson: And, Dad, I won't have those memories. I want your help, help, help. (LONG VOICE, CHUCKLING) You can help me.\nLisa Simpson: That'll save me, Dad. I've got to get her back to a loving family.\nLisa Simpson: I promise.\nLisa Simpson: Don't make me stop! You're right.\nLisa Simpson: We did the right thing.\nLisa Simpson: This doesn't look good on paper. I've made everything in the world!\nLisa Simpson: (MOANS) Lisa, we're going to the funeral!\nLisa Simpson: Mom, what are you doing here?\nLisa Simpson: Lisa... I really miss you, Lisa.\nLisa Simpson: All I'm saying is, thank you for being here.\nLisa Simpson: You look so happy, Dad. You are really great.\nLisa Simpson: Lisa, it is a miracle to have you here.\nLisa Simpson: Lisa, it is a miracle to have you here.\nCheckpoint ./storage/models/batch/gpt_script_epoch_14_batch_39200.bin is succesfully saved.\nSummed loss : 255.28022769093513\nOutput:\n----------------------------------------------------------------------------------------------------\n0:  planted, I'm gonna die.\nMarge Simpson: No I'm not.\nHomer Simpson: I won't, Marge!\nMarge Simpson: Oh, sure, but my dog won't die!\nMarge Simpson: He won't be.\nHomer Simpson: He won't be.\nHomer Simpson: The dog won't be!\nLisa Simpson: I can't believe this.\nHomer Simpson: I hope he dies with me.\nHomer Simpson: I hope he dies with me.\nHomer Simpson: I hope he dies with me.\nHomer Simpson: I hope he dies with me.\nLisa Simpson: He won't!\nHomer Simpson: He won't!\nHomer Simpson: He won't!\nHomer Simpson: I hope he dies with me.\nHomer Simpson: (PANICKED) He won't!\nHomer Simpson: (PANICKED) He won't!\nHomer Simpson: (PANICKED) He won't!\nHomer Simpson: (PANICKED) He won't!\n\n\nHomer Simpson: (PUZZLED) He'll do nothing!\nHomer Simpson: (PUZZLED) He'll do nothing!\nLisa Simpson: Yes, you do.\nLisa Simpson: Yes, you do.\nHomer Simpson: (PUZZLED) He won't!\nHomer Simpson: He won't! (PUZZLED) He won't!\nHomer Simpson: (PUZZLED) He won't!\nMarge Simpson: Homer, could I give you a hug?\nHomer Simpson: (LOOKING FOR LISA) (CHUCKLES) I never told you it was me who died.\nMarge Simpson: There is no such thing as a father.\nHomer Simpson: (TOUCHED) Dad. Look out.\nLisa Simpson: Don't worry. He is safe. He will die.\nHomer Simpson: (TOUCHED) Aww...\nHomer Simpson: (THEN) I'll bet he won't!\nHomer Simpson: (THEN, GROAN) What the hell are you doing?\nHomer Simpson: Don't worry, son. He will be okay. (FRUSTRATED GASP) So far.\nHomer Simpson: (CH\nCheckpoint ./storage/models/batch/gpt_script_epoch_14_batch_40000.bin is succesfully saved.\nSummed loss : 255.43087181448936\nOutput:\n----------------------------------------------------------------------------------------------------\n0: ruce!\nHomer Simpson: You were right! Now it's time we start looking into what happens when we're on the phone with a big fat liar!\nLisa Simpson: Oh, honey, no!\nMarge Simpson: This is so embarrassing. I feel like you'd really like a massage.\nHomer Simpson: Mmm, what do you like?\nMarge Simpson: (STERNLY) I think you like a cocktail. You don't like all the other things I said.\nHomer Simpson: (SOBBING, THEN TO LISA) Oh, Marge, don't be so hard on me. Just to give you this little help.\nHomer Simpson: (MOMENTLY) Oh honey, I love you.\nHomer Simpson: Oh, Marge, it's okay to say you like that. I could say the whole thing in your face. I mean this for a second...\nMarge Simpson: Okay. I can't stop being mad. I am now in this room where I really don't know what's going on.\nMarge Simpson: Yeah. All you had to do was find the guy with the microphone on the other end of the hallway.\nBart Simpson: Okay, Dad.\nHomer Simpson: Okay, Bart.\nBart Simpson: Good luck finding that guy. I'll just go grab whatever you got.\nHomer Simpson: (INTO PHONE) I guess my son is not gonna believe me.\nHomer Simpson: Well, my son's here, you don't have to think about everything, just get out of his way and do what he wants.\nMarge Simpson: (PANICKED) Did you get something?\nHomer Simpson: (GENTLY) Oh yeah. I got a bottle.\nMarge Simpson: Now what? Why, that's not your bottle.\nHomer Simpson: And don't try to talk me into telling you what to do. (SEDUCTIVE LAUGH) I'm sick of thinking that way.\nHomer Simpson: I got an important mail! I was wondering if you were gonna give it to me so that I could do something?\nHomer Simpson: Well you'll get me everything, but I don't have the money.\nHomer Simpson: You don't have to give it to me.\nMarge Simpson: Homer\nCheckpoint ./storage/models/batch/gpt_script_epoch_14_batch_40800.bin is succesfully saved.\nEpoch number : 15\nSummed loss : 252.93551391363144\nOutput:\n----------------------------------------------------------------------------------------------------\n0: Pen.\nMarge Simpson: (EXASPERATED) Wow, she's amazing. (PANTING) That's the first time I've ever seen a woman that didn't try to be feminine.\nHomer Simpson: Ohhh, he's pretty, but he didn't bring me up to believe me. He had some...\nLisa Simpson: Well, I really hope he does end up taking this. He can't look at me now and say \"I wish I hadn't been born with one heart for my mother.\"\nMarge Simpson: I know.\nHomer Simpson: Uh, um, just like Lisa, we've been talking here since before that bus incident...\nMarge Simpson: It would be great if he didn't have to listen to me.\nHomer Simpson: No, it would make us friends.\nHomer Simpson: No, no, it would make us a family.\nMarge Simpson: Well, she's just such a beautiful little girl. But if it weren't for her mother having gotten sick of me and the rest of her family, Lisa would not be a very successful parent.\nHomer Simpson: Uh, it's nothing like it seems.\nMarge Simpson: Oh, well, maybe we could use a little help.\nMarge Simpson: I know.\nHomer Simpson: A little help?\nLisa Simpson: Yeah.\nHomer Simpson: (FURIOUS) A little help, then?\nMarge Simpson: (COLDLY) Thanks, sweetie. (PUZZLED) (CHUCKLES) Oh, oh, well, it doesn't need much help, but here it is. (POINTS TO SELF, TO MUGSHOTS) Oh, Homer, why are you laughing so hard?\nHomer Simpson: (EXHAUSTED) Oh, honey. (CHUCKLES) Ah, I see. Oh, honey. You were so cool to get this, but you're so, so old!\nHomer Simpson: (DISAPPOINTED SIGH) Fine. Oh, honey. I'll be here at the funeral, maybe I'll even be in his room with his father.\nMarge Simpson: Oh, please!\nMarge Simpson: Homer, would you like to eat my coffee?\nLisa Simpson: No!\nHomer Simpson: Oh, it's wonderful.\n\nCheckpoint ./storage/models/batch/gpt_script_epoch_15_batch_41600.bin is succesfully saved.\nSummed loss : 253.7273314744234\nOutput:\n----------------------------------------------------------------------------------------------------\n0:  Lucy, this could be fun!\nLisa Simpson: (TO SELF, NOT LOOKING AROUND) All right. Now I'm gonna show Lisa something I knew I'd never see: when it comes to me, I'm always up for anything.\nLisa Simpson: You're right, boy. Just like your mother always said, it's better to die than to be alive.\nHomer Simpson: (GASPS) I've been meaning to die since I was ten, but...\nHomer Simpson: You're right. Now stop and think. Where can I begin?\nHomer Simpson: Don't think. It's not a maze. You're just a guy standing up to someone, a guy with his pants on and some candy on the corner.\nHomer Simpson: I knew it.\nLisa Simpson: Dad, please, don't put these on!\nBart Simpson: That's my Bart!\nHomer Simpson: (STILL WORRIED, THEN TO BART) So much for my little love story.\nBart Simpson: Why don't we put the candy on our bed and turn into animals to get a piece of this?\nBart Simpson: It's for him.\nBart Simpson: (SOBBING HOMER) I love this.\nBart Simpson: Yeah, I love you too. I'll give ya more.\nBart Simpson: It's a family, isn't it?\nLisa Simpson: It's not. It's a family of children. I won't be telling them any more about their lives until I turn my life around.\nHomer Simpson: (GASP) Don't worry, kids. When you're grown up you can finally think of something nice.\nLisa Simpson: Dad, you can do anything. It doesn't matter.\nHomer Simpson: I'm still gonna learn.\nMarge Simpson: Dad, I'm sorry, I was busy talking with your doctor about our son's heart disease.\nHomer Simpson: You could have been...\nHomer Simpson:...in a coma for three weeks.\nLisa Simpson: You know that movie where they put this family on a plane to save us?\nHomer Simpson: That was my mom's idea.\nLisa Simpson: But they were really taking care of him, like he told her to.\nLisa Simpson: (SWEETLY)\nCheckpoint ./storage/models/batch/gpt_script_epoch_15_batch_42400.bin is succesfully saved.\nSummed loss : 252.69454050064087\nOutput:\n----------------------------------------------------------------------------------------------------\n0:  deity at the head of a school bus.\nLisa Simpson: (HURT) Please don't stop now. We're at work tomorrow morning.\nBart Simpson: That wasn't an ambulance. It was a fire-and-forget truck, with a roof over its head.\nLisa Simpson: (SHORT EXCITED) A truck with a roof over its head.\nLisa Simpson: What's in a truck?\nBart Simpson: (ANNOYED GRUNT) Hey, look.\nLisa Simpson: (SMILES) How'd you know...\nBart Simpson: What was that?\nLisa Simpson: (CHUCKLES) There's a lot more to it than that.\nBart Simpson: (WAVES IT OFF) Yeah, I know that.\nLisa Simpson: Yeah, well. Maybe you should check in with me.\nBart Simpson: (SOTTO TO FAMILY) Hey, Dad, this is a thing --\nLisa Simpson: (DISTRAUGHT) Can I get a ticket in the mail?\nBart Simpson: I have a ticket and I can take it.\nHomer Simpson: Sorry, kids. But no matter how I help Dad, I am always right up there with the teacher's desk -- or, I suppose, with the school bus.\nLisa Simpson: (SMILES) This school bus is my favorite. It'll be like a carousel. If I can't help it, will I ever get one?\nHomer Simpson: Oh, honey, please. Please don't let me get hurt again, please.\nLisa Simpson: (FRUSTRATED NOISE) I want to save you. I want to protect you, Bart. Please, no, please no!\nHomer Simpson: (CALLING) That's it!\nLisa Simpson: We're not hurt!\nLisa Simpson: I'm sorry! I'm sorry!\nLisa Simpson: But I won't give up on my kids. Just like I don't give up on them!\nBart Simpson: (QUICK, GRUNT) I don't want to get hurt again! I want to save the world!\nLisa Simpson: I want to save your lives!\nBart Simpson: (SMILES) Why can't you just walk me to the bathroom with the hose. I'll clean up the\nCheckpoint ./storage/models/batch/gpt_script_epoch_15_batch_43200.bin is succesfully saved.\nEpoch number : 16\nSummed loss : 252.51307770609856\nOutput:\n----------------------------------------------------------------------------------------------------\n0: etermin.\nHomer Simpson: (INTRIGUED) I bet he likes me.\nMarge Simpson: Is there anything you want to know about Lisa's future?\nHomer Simpson: (SHARPLY) No. I want her to live happily ever after.\nMarge Simpson: (SAD) I don't wanna miss her at all.\nMarge Simpson: I know, it was great for you to spend a week in the hospital with her -- but I'm so upset at what happened with Bart.\nHomer Simpson: Oh, I don't wanna have kids. I wish they could.\nMarge Simpson: Homer, this is very much a time for me to mourn you. I don't know what you're gonna do with Lisa.\nHomer Simpson: Well, if you know Lisa, then you might be interested in some information regarding her retirement.\nMarge Simpson: Lisa -- why you...\nMarge Simpson: I guess you don't want a baby?\nMarge Simpson: Is there anything I want to know about...\nMarge Simpson: Well, I think you know what? I thought we were going to go to church together and we were going to share some information about things we did to each other. And I thought maybe it was so sexy that you might find this information helpful.\nMarge Simpson: (SCOFFS) I didn't want to feel like I was being watched. You said \"shut up.\"\nMarge Simpson: You know, I never really wanted to talk to you again because I felt like I was the one who made you do it. So when I saw this new life, I wanted to see what would happen if I had to leave her.\nMarge Simpson: Maybe you were good at hiding things like that, and you just...\nHomer Simpson:...spotted us, and all this weird stuff.\nMarge Simpson: That's your life.\nHomer Simpson: (CHOKING UP A PLEASED CHUCKLE) Why did you give me that last picture of Lisa?\nMarge Simpson: What did she do to you?\nHomer Simpson: Marge, I never said it to you. I never said it to you. I never said it to you. (SHOCKED NOISE) I never said that thing that had to happen to me.\nMarge Simpson: You mean\nCheckpoint ./storage/models/batch/gpt_script_epoch_16_batch_44000.bin is succesfully saved.\nSummed loss : 251.84404182434082\nOutput:\n----------------------------------------------------------------------------------------------------\n0:  pollution. The best we can do is try and stop it.\nBart Simpson: (MOUTH FULL) The sky's the limit!\nHomer Simpson: You got it, kid! You get me! (SELLING) \"All Our Dreams.\"\nBart Simpson: (WALKING DOG) Marge, we're gonna need our dream house.\nLisa Simpson: I told you we were getting one.\nHomer Simpson: (WALKING DOG) Marge... you guys got that!\nBart Simpson: Mom? What do you think happened?\nLisa Simpson: Don't know.\nHomer Simpson: We just got one.\nLisa Simpson: We could have one too.\nMarge Simpson: (DISAPPOINTED) Now that's your dream house! (MUTTERING) What's that sound?\nBart Simpson: Why don't you buy a home for me?\nLisa Simpson: (SHOCKED NOISE) You're not crazy!\nBart Simpson: I know, but I think I'm smart enough to buy a home for you!\nBart Simpson: I'll live off the money you take in!\nLisa Simpson: Well, you'd better believe I still do.\nLisa Simpson: I still have lots to do.\nBart Simpson: (NOTICING) Yeah.\nLisa Simpson: So that's what we should do -- sell our house -- we're gonna get a mortgage on it. (TO SELF) I do.\nLisa Simpson: (SHEEPISH) We got all these big dreams.\nHomer Simpson: (REALIZING) Oh my God, I've never realized how much we're screwed!\nHomer Simpson: Oh, it sure is worth it.\nMarge Simpson: Homer, do you have anything else to tell us?\nMarge Simpson: I am so glad you're back at school.\nLisa Simpson: (SADLY) This sucks.\nMarge Simpson: Yes. I am so sorry.\nHomer Simpson: (PRAYING) I don't have any memories for a week.\nMarge Simpson: You're right, Lisa. There's just not enough time to think.\nHomer Simpson: (INCREDULOUS) Oh, well, I got to work.\nLisa Simpson: You're right, Dad. The\nCheckpoint ./storage/models/batch/gpt_script_epoch_16_batch_44800.bin is succesfully saved.\nSummed loss : 251.5850309431553\nOutput:\n----------------------------------------------------------------------------------------------------\n0:  reve.\nBart Simpson: (FRUSTRATED) Well, no one's talking about Lisa and Bart.\nLisa Simpson: (GRIMLY) Ohh, I'd like to, but they're in a good mood... and I'm worried about everyone.\nMarge Simpson: (FONDLY) Oh, I love Lisa. It makes me feel a little better about where we're at, I wish she'd stay a few more hours.\nBart Simpson: (WAVING FINGERS) Ohhh, you love what you see.\nLisa Simpson: Well, you'd do anything for that.\nMarge Simpson: Oh, sweetie.\nBart Simpson: (LOUD WHISPER) What are you talking about? (TO BART) Ohhh. Well, uh... well... well... well... and uh... well, uh... (LOOKS AT HAND) No-no.\nMarge Simpson: No-no! Bart, no.\nBart Simpson: Nooooooo! The guy on the trolley! He's making eye contact! He's making eye contact! Ohh, look!\nLisa Simpson: You look very upset.\nHomer Simpson: I will!\nLisa Simpson: (SKEPTICAL) Ooh, look at how I feel.\nLisa Simpson: (UNDER WHISPER) Ohhh, you can see the face.\nLisa Simpson: (SKEPTICAL) Well, I wish you would come see me later.\nLisa Simpson: (SKEPTICAL) I want to see you a little.\nLisa Simpson: (SKEPTICAL) Oh, Lisa, you look really sad.\nLisa Simpson: Lisa, I wish you would be here tomorrow.\nBart Simpson: Lisa, no! I wish you would come with me at school tomorrow.\nBart Simpson: No, Bart, not today.\nBart Simpson: Oh, uh, sure. Why not?\nBart Simpson: You're welcome.\nLisa Simpson: Mom, are you okay?\nMarge Simpson: (NERVOUS) Not so fast.\nMarge Simpson: You're okay, Bart. You're fine. It's all my fault!\nMarge Simpson: Okay, let's go for a walk.\nLisa Simpson: Bart, what's going on at school?\nBart Simpson\nCheckpoint ./storage/models/batch/gpt_script_epoch_16_batch_45600.bin is succesfully saved.\nEpoch number : 17\nSummed loss : 250.65378513932228\nOutput:\n----------------------------------------------------------------------------------------------------\n0: pill at the back of the building?\nLisa Simpson: Maybe... (CULLING BACK) Bart!\nBart Simpson: (GRIM) Oh, I can't believe I've seen this before.\nHomer Simpson: (POINTING) We're in the garage again! The kids are on a break!\nBart Simpson: (SING-SONG) PLEASED... PLEASED...\nMarge Simpson: I'm in the middle of an ice cream parlor!\nBart Simpson: (SINGS, SING-SONG) PLEASED... PLEASED...\nMarge Simpson: Bart! I'm not in here.\nBart Simpson: You're not?\nMarge Simpson: Well, you're the only one who's got a clue.\nBart Simpson: Wait! If they're trying to kill me, why did they spray paint the window!\nLisa Simpson: Well, maybe they want to keep an eye on us.\nBart Simpson: Why do they do that?\nBart Simpson: Because they like to make you feel special.\nBart Simpson: Well, it's been a while since I've cried.\nBart Simpson: I'll do it. I'll do it! I'll do it! I'll do it! I'll do it!\nHomer Simpson: Well, I'm not sure I want you to go to the hospital. But you've had so much to live up to.\nBart Simpson: Maybe the only way I can really change is if I make you happy.\nHomer Simpson: What do you want? You can take my happiness to another dimension.\nBart Simpson: (SINGING) PLEASED... PLEASED...\nBart Simpson: (SINGING) PLEASED... PLEASED...\nBart Simpson: (SINGING) PLEASED... PLEASED...\nBart Simpson: (SINGING) PLEASED... PLEASED...\nBart Simpson: (SINGING) PLEASED... PLEASED...\nBart Simpson: (SINGING) PLEASED... PLEASED...\nLisa Simpson: I know you can do this. I'll use anything -- not just you and me.\nHomer Simpson: Oh, it's not gonna happen, Maggie.\nLisa Simpson: I love you\nCheckpoint ./storage/models/batch/gpt_script_epoch_17_batch_46400.bin is succesfully saved.\nSummed loss : 251.26723524928093\nOutput:\n----------------------------------------------------------------------------------------------------\n0: cer. It's a beautiful, beautiful world.\nHomer Simpson: Well, we don't know how.\nLisa Simpson: Yeah, but I'm gonna start a petition.\nHomer Simpson: You'd better join the cause.\nHomer Simpson: What?\nHomer Simpson: (LAUGHING) Hey!\nLisa Simpson: We love you... but we're stuck with us.\nHomer Simpson: (CHUCKLES) Okay, maybe we should quit.\nMarge Simpson: That's great, Mr. Robot. You're one of the coolest characters of our generation. But it's probably time to stop.\nHomer Simpson: (SPOOKY) Just go back to basics.\nLisa Simpson: Oh yeah?\nHomer Simpson: (WISTFUL) Yeah, but it's a lot more fun.\nLisa Simpson: Oh my God!\nHomer Simpson: (FLIES) (ANCHORED) Wow, these things are so cute.\nLisa Simpson: How come we're never seen before?\nHomer Simpson: (GASP) This is my little... (TAKES A PIECE OF DREAMS) That's just the point of this project... (HUGS FINGERS GASP) There's a real reason the show's here.\nMarge Simpson: Oh, this is so sweet.\nHomer Simpson: (SINGING) I'M SKEPTICAL... I'M JUST SAYIN' / I'M SKEPTICAL... I'M SKEPTICAL... I'M SKEPTICAL...\nMarge Simpson: (GASP) It's such a happy reunion!\nHomer Simpson: (LOVING SKEPTICAL) Whoa! Whoa! Whoa! Whoa! (LOOKS AROUND EARS) Whoa! Whoa! Whoa!\nHomer Simpson: (WORRIED SIGH) What if I didn't have you?\nHomer Simpson: (CONSIDERING) Oh well. (THEN) Whoa! Whoa! Whoa! Whoa! Whoa!\nHomer Simpson: (SMALL SIGH) Well, it's no use trying to be mean -- I'm gonna join this group of people who love this show and I believe in our show.\nBart Simpson: (SINGS\nCheckpoint ./storage/models/batch/gpt_script_epoch_17_batch_47200.bin is succesfully saved.\nSummed loss : 249.0213977098465\nOutput:\n----------------------------------------------------------------------------------------------------\n0: chens at your expense?\nHomer Simpson: And what a handsome, fat young man. And I would have just said \"shhh, man.\"\nMarge Simpson: I can't believe people would go to the trouble of convincing you they love you.\nHomer Simpson: Yeah, but they'll be pretty busy.\nHomer Simpson: (LOUD WHISPER) Look, we're really just trying to get Lisa home. I thought we'd hit the bar.\nHomer Simpson: (SUDDENLY SHOCKED) That was the last thing I wanted. (STILL LOOKING UP) Oh, come on, let's go.\nHomer Simpson: (WHISPERING) Oh, I'm getting outta here! We gotta get her!\nHomer Simpson: (TOO LAUGHTER) I'm getting outta here.\nHomer Simpson: (TO BART, SELFI) Come here, son.\nBart Simpson: Don't be so mad. I'm not getting outta here until you kiss the kid.\nLisa Simpson: Dad, that's a great idea.\nHomer Simpson: (ANGRY) I'll kiss them... once in a while.\nBart Simpson: So now you two are back and forth, don't you?\nHomer Simpson: Yep, exactly. You'll know when I come home.\nHomer Simpson: I hope you get through to Dad tonight.\nHomer Simpson: (SMOOTHLY) The dog's right there.\nHomer Simpson: Hey, man. I don't see why I shouldn't go.\nHomer Simpson: (SWEETLY) Oh, I didn't think it was fun. (TO FAMILY) I hope you enjoy yourself, honey.\nHomer Simpson: (SWEETLY) Yes?\nHomer Simpson: Okay.\nHomer Simpson: (READING BOX) Oh my God, you're my son.\nHomer Simpson: Hey, hey, hey, hey, hey.\nMarge Simpson: Lisa's not here!\nHomer Simpson: Oh, I don't see it.\nHomer Simpson: Oh, honey, I think we should just drive away. (COY) I mean, maybe get us some ice cream.\nBart Simpson: I can't believe you've gone. How can you\nCheckpoint ./storage/models/batch/gpt_script_epoch_17_batch_48000.bin is succesfully saved.\nSummed loss : 248.85616521537304\nOutput:\n----------------------------------------------------------------------------------------------------\n0:  gar. He's got that guy on the ropes for you.\nMarge Simpson: I'm afraid we're not getting a good night's sleep and we're planning a big family party.\nHomer Simpson: (POUTY) Can't you take care of yourself?\nHomer Simpson: What'd you say, Mom?\nMarge Simpson: Homer, I'm thinking of you. Your Mom is always thinking of you and she thinks that way about you.\nMarge Simpson: You're right.\nHomer Simpson: Look, Marge, I'll never forget the first time your Mom said--\nMarge Simpson: (CALLING) Mom!\nHomer Simpson: (CALLING) Mom!\nHomer Simpson: I'm so sorry.\nHomer Simpson: You know, sometimes I think we've got to give a little something back.\nHomer Simpson: You know, I'm hoping you'd like my birthday present. (READING) \"Don't panic. It's only an hour!\"\nHomer Simpson: Ooh. I'm glad you're here.\nHomer Simpson: All right, all right, I'm ready.\nLisa Simpson: Dad, we were thinking a lot about the dinner party for Daddy's funeral and we needed a party party to remember everything.\nHomer Simpson: (SIGHS) Oh, it was always in the first place.\nMarge Simpson: (BEAT) Homer, maybe you could be a better dad and we should have fun together.\nHomer Simpson: (SIGHS) Look, I'm not gonna be there.\nHomer Simpson: I won't be there. If the whole family were here tonight, I wouldn't have the money for this party. (PLEADING) I'm gonna do something more fun tonight.\nMarge Simpson: (SIGHS) There's a problem.\nHomer Simpson: (MUMBLING) The party started on a Sunday?\nHomer Simpson: (SIGHS) Okay.\nHomer Simpson: Uh, I don't wanna talk about it right now. Let's just go back to your room.\nMarge Simpson: (SIGHS) Homer, you made us do something with your money -- and I didn't mean anything to hurt you.\nHomer Simpson: (SIGHS) Oh yeah? Oh yeah? I\nCheckpoint ./storage/models/batch/gpt_script_epoch_17_batch_48800.bin is succesfully saved.\nEpoch number : 18\nSummed loss : 247.3990768790245\nOutput:\n----------------------------------------------------------------------------------------------------\n0:  realistic.\nHomer Simpson: (CALLS UP AGAIN) Oh, no. You said that. Well, let me finish this and go to the dentist. (QUICKLY) And that's all right.\nHomer Simpson: Good, I got a good one. Here comes the dentist.\nMarge Simpson: All right, Simpson!\nHomer Simpson: (BEAT) Now, let's get you a couple of more of these.\nMarge Simpson: I'm not gonna eat them, I'm not gonna eat these.\nHomer Simpson: Well... at least that's what I've been telling the kids.\nMarge Simpson: And you can read them on paper.\nMarge Simpson: And they'll just fall asleep in your lap!\nMarge Simpson: So what if you could change the subject... by saying you think this isn't important?\nHomer Simpson: Uh-huh. I really like that idea. Now just give us something you really think matters to you.\nMarge Simpson: (SLEEPY) Yes?\nHomer Simpson: No.\nHomer Simpson: No.\nHomer Simpson: No.\nHomer Simpson: No.\nHomer Simpson: (IMPRESSED GASP) Oh my God!\nBart Simpson: Are you the biggest Bart?\nMarge Simpson: (BORED) Yeah, it's not fair. I'll take those kids. And you get to be on the cover of Newsweek.\nHomer Simpson: (EXASPERATED GASP) Wow...\nLisa Simpson: (SCARY) Dad!\nHomer Simpson: I'm gonna do this!\nLisa Simpson: (EXASPERATED) Oh, come on. Get out of the way!\nLisa Simpson: (SCARED) Yeah!\nHomer Simpson: (SCARED) I'm not gonna stop until I get this trophy back!\nHomer Simpson: No, no, no.\nHomer Simpson: (GASP) Heh, heh! I'm not gonna stop until I get this trophy back!\nHomer Simpson: Yes, no.\nHomer Simpson: (PUZZLED) Oh... my...\nHomer Simpson: (DOPPLER) Oh, my, what is this? (POKING) It's my car! (BORED\nCheckpoint ./storage/models/batch/gpt_script_epoch_18_batch_49600.bin is succesfully saved.\nSummed loss : 249.26678550243378\nOutput:\n----------------------------------------------------------------------------------------------------\n0:  arg.\nBart Simpson: No. We have to go on a date.\nBart Simpson: What?\nLisa Simpson: We have to be on the date.\nBart Simpson: Lisa, I know you're upset with the guy -- I don't like it when he humiliates women.\nBart Simpson: Don't you worry, honey. I'm doing it right now and it works. (INTO PHONE, TURNED ON) Uh...\nBart Simpson: (INTO PHONE) Oh, no. I've gotta go.\nBart Simpson: Yeah, well. (DREAMY) Well, look.\nBart Simpson: (TO MILHOUSE) Hey, we love Lisa, right?\nBart Simpson: Well, that's good for a first date.\nBart Simpson: (SIGH) Don't worry. I'll see you tomorrow.\nBart Simpson: All right, here we go. (TO TURNED ON) Bart, what's wrong?\nBart Simpson: How could I possibly see what I see?\nBart Simpson: (COLDLY) Come on. I'm going to go to bed.\nBart Simpson: So what happened to you?\nLisa Simpson: I won't tell you.\nBart Simpson: Now what do you think?\nLisa Simpson: Well, this is my birthday!\nBart Simpson: But I've got the number for the last thing I can!\nLisa Simpson: (PANICKED) What?!\nBart Simpson: Now what?\nLisa Simpson: You mean when I was twelve?\nBart Simpson: Twelve?! It's twelve!\nLisa Simpson: (SING-SONG) MARGE, MARGE, MARGE, MARGE, MARGE!\nBart Simpson: What?\nLisa Simpson: The next ten years are gonna be horrible.\nBart Simpson: Well, if that's true, then that's probably why you're on TV every Sunday and Saturday, and you've done well.\nLisa Simpson: (SINGS-SONG) 'Tis the season for my boy, son-in-law.\nBart Simpson: (SING-SONG) MARGE, MARGE, MARGE, MARGE, MARGE!\nBart Simpson: (CALLS OUT) Aye carumba!\nCheckpoint ./storage/models/batch/gpt_script_epoch_18_batch_50400.bin is succesfully saved.\nSummed loss : 248.3624483048916\nOutput:\n----------------------------------------------------------------------------------------------------\n0: asks. I'm leaving. And I'm a pretty good coach.\nBart Simpson: (CHUCKLES) Heh heh. If you've gotten that far, you gotta let's just go to bed.\nLisa Simpson: (ANNOYED GRUNT) Dad, you can't make me stay. All you can do is watch my stupid cartoons. (GRUMBLING) What if there's someone else to blame for our problems?\nHomer Simpson: (TO MARGE) I'll be right here. I promise.\nMarge Simpson: That's nice. Goodnight.\nHomer Simpson: Oh Marge, you can't stay there for days. (CHUCKLES) I'm gonna be right in the car... and I'll be good to go again.\nBart Simpson: (GRUMPY) Oh yeah. (SINGS) I MIGHT HAVE BEEN A BULLHORN / IT'S NOW OR NEVER /\nBart Simpson: (SINGS) YEAH / EVERYBODY'S MEEK / WHEN THEY'RE A LITTLE BETTER / AND I WAS A LITTLE BETTER /\nBart Simpson: (SINGS) EVERYBODY'S A LITTLE BETTER / AND I WAS A LITTLE BETTER /\nBart Simpson: (SINGS) I MIGHT BE A LITTLE BETTER / / AND IF I'M BETTER BETTER / Y'ALL GET A LOT BETTER /\nBart Simpson: (SINGS) I HAD A DIFFERENT BULLHORN / Y'ALL HOMER GIVEN SOME DIFFERENT BULLHORN...\nBart Simpson: (SINGS) YEAH / EVERYBODY'S A LITTLE BETTER / AND I WAS A LITTLE BETTER...\nBart Simpson: (SINGS) I MIGHT BE A LITTLE BETTER / AND I WAS A LITTLE BETTER...\nBart Simpson: (SINGS) I LOVED YOU, BIG BULLHORN.\nBart Simpson: (SINGS) YEAH I LOVE YOU, BIG BULLHORN.\nHomer Simpson: (MILD MOANS) How many people have my wife and kids gone on?!\nLisa Simpson: I didn't think he was telling the truth,\nCheckpoint ./storage/models/batch/gpt_script_epoch_18_batch_51200.bin is succesfully saved.\nEpoch number : 19\nSummed loss : 246.64909839630127\nOutput:\n----------------------------------------------------------------------------------------------------\n0: Lou's the only one who thinks I'm crazy. I'm a pretty darn good singer, with great ideas for new material. But we have to give her the benefit of the doubt.\nLisa Simpson: This is great news! We'll be able to use Bart's singing voice for our children's music. Let's all enjoy this wonderful new music.\nBart Simpson: What are you laughing at?\nLisa Simpson: (CHUCKLES) Mom was the first to get the ear piercing. So I'm sorry, but there's no chance I will ever be able to listen to a singer from my school again. (BEAT) I'm sure you'll be glad we're not getting a Grammy nomination.\nBart Simpson: (GROANS) What's with the stupid glasses?\nLisa Simpson: (CHUCKLES) Mom said I wouldn't be invited.\nMarge Simpson: I thought we'd be using the same speakers for every child's music.\nLisa Simpson: Now that's cool!\nBart Simpson: But it's very late and our parents haven't seen us since I left.\nMarge Simpson: I didn't make a list with \"not even close.\"\nLisa Simpson: (LOW) Why, but a little later on we were seeing each other at the wedding.\nMarge Simpson: Lisa, I don't need you making a list.\nLisa Simpson: But, I've made plenty of promises! Like this song that I wrote last year!\nMarge Simpson: Hey, look how sweet it is.\nLisa Simpson: And, this month I created a collection of new pieces on a very specific day!\nMarge Simpson: Now, all these music ideas I sketched out were completely random. I just wanted to make sure everyone was having fun.\nLisa Simpson: (TO BART, SOTTO) You know who makes new friends every month? Kids.\nBart Simpson: We're kids. We're teenagers, no one likes us anymore.\nMarge Simpson: Now let's move on.\nMarge Simpson: (TO LISA) Oh, Bart.\nBart Simpson: (TICKING HIM OFF) I'm trying to work things out.\nBart Simpson: You want to?\nMarge Simpson: (STIFFLY) You do too.\nLisa Simpson: I am!\nMarge Simpson: Lisa's music is\nCheckpoint ./storage/models/batch/gpt_script_epoch_19_batch_52000.bin is succesfully saved.\nSummed loss : 246.22028429806232\nOutput:\n----------------------------------------------------------------------------------------------------\n0:  continental, I suppose. Maybe you could find a place for us in your home. Or something like that!\nMarge Simpson: (DISMAYED) Homer, could you please take my place? If you want my home please marry me.\nHomer Simpson: Mom, I just want this to feel like a family.\nMarge Simpson: Why, there's nothing in my diary about us. We were just... just... (PATRONIZING) just a couple of people.\nMarge Simpson: (STARTLED GASP) Look at these.\nHomer Simpson: (FURIOUS) Uh, it's a map of an area. There's no geographical accuracy. (SADLY) We'll have to settle this... (STILL PUTTING A BREATH IN HER MOUTH) that we'll just have to find a place for each other. (BEAT) You've got to give up our privacy!\nHomer Simpson: That's ridiculous.\nMarge Simpson: Homie, don't say that.\nHomer Simpson: (TOUGHLY) You mean in our town?\nMarge Simpson: I think it's better than Springfield... in Springfield there are no monsters except for ourselves. No one cares if there's no monsters at all.\nMarge Simpson: (IMPRESSED) Homie, if you're coming to your senses, then you should go out to dinner with a friend.\nHomer Simpson: And if there's a nice new place you'd like to stay with me, I'll come and stay there. We'll have a beer and eat on the beach. (BEAT) What is it with this? It's a bad thing!\nMarge Simpson: You must be a little bit upset by the way these clothes are... well, uh... I'm not quite sure what it is that's bothering me, but the hair is nice.\nHomer Simpson:...The only thing I don't like about your hair is its color. (BEAT, THEN:) Oh, I can't say that in public anymore. (BEAT, THEN:) (BEAT, THEN:) Okay, let's see... The TV show \"Ugly Betty?\"\nHomer Simpson: (SHRUGS) Oh, wait a minute. We've only been watching those two shows on TV for four years now!\nM\nCheckpoint ./storage/models/batch/gpt_script_epoch_19_batch_52800.bin is succesfully saved.\nSummed loss : 246.3205122500658\nOutput:\n----------------------------------------------------------------------------------------------------\n0:  torrent.\nLisa Simpson: We're in here!\nHomer Simpson: (POINTED) Hm. You're probably a little surprised I'm using those words. But I'm not. I've been reading about that movie, it's got all kinds of good stuff, and in fact, there's an entire movie on that movie.\nHomer Simpson: (STUNNED) Well, how did that movie end?\nLisa Simpson: It sucked. The only way out was to just go out with a band of merry-go-lucky young people, and then we got snuck in a pool and had to wear clothes, and then it got really crazy hot, and the only place you could watch that movie was the internet.\nLisa Simpson: (STUNNED) But you know what else sucked: that movie.\nHomer Simpson: So much for freedom!\nLisa Simpson: (CHUCKLES) I've been watching that movie for three hours!\nBart Simpson: Wow, you're so funny.\nLisa Simpson: (SCOFFING) Hey!\nHomer Simpson: And I'll show you.\nLisa Simpson: (GROWING GASP) Oh, my God, who'd do that?\nHomer Simpson: (SINCERE, THEN) I have to explain.\nLisa Simpson: But I'm a feminist!\nHomer Simpson: Well, I'm not a feminist. I love comics. I think a lot of books are funny or insightful. But my heart goes out to gay people -- especially those who've lost loved ones to hate.\nLisa Simpson: Wow!\nHomer Simpson: Why can't you just read the script?\nLisa Simpson: It's hard, I'm a smart lady...\nHomer Simpson: (TEMPTING) Lisa, I found the idea of a feminist talking about a book a little too radical.\nHomer Simpson: Well, you should be able to read it.\nLisa Simpson: Okay, you can read it now.\nHomer Simpson: Don't worry, it'll be good.\nHomer Simpson: That means you've got to keep doing that, Lisa. It'll take a lot of practice.\nLisa Simpson: I'll help you.\nHomer Simpson: (TENTATIVE) Thanks, Lis.\nHomer Simpson: Uh-oh, I know you're worried\nCheckpoint ./storage/models/batch/gpt_script_epoch_19_batch_53600.bin is succesfully saved.\nSummed loss : 247.02231858670712\nOutput:\n----------------------------------------------------------------------------------------------------\n0: RAWERING, THEN:) I'll do it again, Mom.\nLisa Simpson: Mom, you're not going to let us do this. We can't take it back unless it stops being violent.\nBart Simpson: I hate to be rude, but you're the last one to notice.\nMarge Simpson: (COCKY) Now get the hell away from me!\nHomer Simpson: Okay, first we have the door.\nBart Simpson: It is.\nHomer Simpson: Why don't you come in?\nBart Simpson: What happened?!\nLisa Simpson: (COCKY) But I don't understand.\nHomer Simpson: All right, it will be okay.\nHomer Simpson: Wait, where's Milhouse?!\nHomer Simpson: Come here, come here!\nBart Simpson: Hey, Marge!\nLisa Simpson: (COCKY) What have you done to me?\nBart Simpson: You do not understand. I feel I have betrayed you. (LOOKS AT PHOTO, THEN) What the?! I'm looking at a picture of you.\nBart Simpson: (EXASPERATED) Uh-oh. I'm sorry.\nMarge Simpson: What the?\nHomer Simpson: Lisa, that's terrible.\nBart Simpson: No, it's okay. All I'm saying is you didn't do anything to me. Why, now do you think I should have?\nMarge Simpson: (MURMURS) Well, then you should see how much I have grown since you were young. Now go play a piece of jazz you can't have, Moe.\nLisa Simpson: No, I'm sorry.\nBart Simpson: Wait... can I still use the piano again?\nLisa Simpson: Oh, no.\nBart Simpson: (SCOFFS) Hey, look! We came here for a play!\nLisa Simpson: Now why are we playing?\nBart Simpson: Oh, no.\nHomer Simpson: Don't you ever worry about hurting your son again. When I come home I'll be like \"Mom, you ruined my boy.\"\nHomer Simpson: (MOUTH FULL) I could use some of that in my day.\nBart Simpson: (LOW) What are you going to do with him?\nHomer Simpson:\nCheckpoint ./storage/models/batch/gpt_script_epoch_19_batch_54400.bin is succesfully saved.\n"
        },
        {
          "output_type": "stream",
          "name": "stderr",
          "text": " 28%|██▊       | 750/2720 [03:44<09:41,  3.39it/s]Setting `pad_token_id` to `eos_token_id`:50256 for open-end generation.\n 57%|█████▋    | 1550/2720 [08:12<05:48,  3.36it/s]Setting `pad_token_id` to `eos_token_id`:50256 for open-end generation.\n 86%|████████▋ | 2350/2720 [12:33<01:51,  3.33it/s]Setting `pad_token_id` to `eos_token_id`:50256 for open-end generation.\n 16%|█▌        | 430/2720 [02:10<11:25,  3.34it/s]Setting `pad_token_id` to `eos_token_id`:50256 for open-end generation.\n 45%|████▌     | 1230/2720 [06:27<07:23,  3.36it/s]Setting `pad_token_id` to `eos_token_id`:50256 for open-end generation.\n 75%|███████▍  | 2030/2720 [10:49<03:25,  3.36it/s]Setting `pad_token_id` to `eos_token_id`:50256 for open-end generation.\n  4%|▍         | 110/2720 [00:33<13:05,  3.32it/s]Setting `pad_token_id` to `eos_token_id`:50256 for open-end generation.\n 33%|███▎      | 910/2720 [04:53<09:00,  3.35it/s]Setting `pad_token_id` to `eos_token_id`:50256 for open-end generation.\n 63%|██████▎   | 1710/2720 [09:17<05:01,  3.35it/s]Setting `pad_token_id` to `eos_token_id`:50256 for open-end generation.\n 92%|█████████▏| 2510/2720 [13:35<01:03,  3.33it/s]Setting `pad_token_id` to `eos_token_id`:50256 for open-end generation.\n 22%|██▏       | 590/2720 [02:58<10:35,  3.35it/s]Setting `pad_token_id` to `eos_token_id`:50256 for open-end generation.\n 51%|█████     | 1390/2720 [07:19<06:40,  3.32it/s]Setting `pad_token_id` to `eos_token_id`:50256 for open-end generation.\n 81%|████████  | 2190/2720 [11:39<02:39,  3.33it/s]Setting `pad_token_id` to `eos_token_id`:50256 for open-end generation.\n 10%|▉         | 270/2720 [01:21<12:17,  3.32it/s]Setting `pad_token_id` to `eos_token_id`:50256 for open-end generation.\n 39%|███▉      | 1070/2720 [05:43<08:12,  3.35it/s]Setting `pad_token_id` to `eos_token_id`:50256 for open-end generation.\n 69%|██████▉   | 1870/2720 [10:05<04:13,  3.35it/s]Setting `pad_token_id` to `eos_token_id`:50256 for open-end generation.\n 98%|█████████▊| 2670/2720 [14:26<00:15,  3.31it/s]Setting `pad_token_id` to `eos_token_id`:50256 for open-end generation.\n 28%|██▊       | 750/2720 [03:47<09:49,  3.34it/s]Setting `pad_token_id` to `eos_token_id`:50256 for open-end generation.\n 57%|█████▋    | 1550/2720 [08:08<05:51,  3.33it/s]Setting `pad_token_id` to `eos_token_id`:50256 for open-end generation.\n 86%|████████▋ | 2350/2720 [12:28<01:50,  3.35it/s]Setting `pad_token_id` to `eos_token_id`:50256 for open-end generation.\n 16%|█▌        | 430/2720 [02:10<11:24,  3.34it/s]Setting `pad_token_id` to `eos_token_id`:50256 for open-end generation.\n 45%|████▌     | 1230/2720 [06:31<07:23,  3.36it/s]Setting `pad_token_id` to `eos_token_id`:50256 for open-end generation.\n 75%|███████▍  | 2030/2720 [10:52<03:26,  3.34it/s]Setting `pad_token_id` to `eos_token_id`:50256 for open-end generation.\n  4%|▍         | 110/2720 [00:33<12:59,  3.35it/s]Setting `pad_token_id` to `eos_token_id`:50256 for open-end generation.\n 33%|███▎      | 910/2720 [04:54<09:05,  3.32it/s]Setting `pad_token_id` to `eos_token_id`:50256 for open-end generation.\n 63%|██████▎   | 1710/2720 [09:16<05:02,  3.34it/s]Setting `pad_token_id` to `eos_token_id`:50256 for open-end generation.\n 92%|█████████▏| 2510/2720 [13:37<01:03,  3.32it/s]Setting `pad_token_id` to `eos_token_id`:50256 for open-end generation.\n 22%|██▏       | 590/2720 [02:58<10:35,  3.35it/s]Setting `pad_token_id` to `eos_token_id`:50256 for open-end generation.\n 51%|█████     | 1390/2720 [07:20<06:39,  3.33it/s]Setting `pad_token_id` to `eos_token_id`:50256 for open-end generation.\n 81%|████████  | 2190/2720 [11:43<02:38,  3.34it/s]Setting `pad_token_id` to `eos_token_id`:50256 for open-end generation.\n 10%|▉         | 270/2720 [01:21<12:11,  3.35it/s]Setting `pad_token_id` to `eos_token_id`:50256 for open-end generation.\n 39%|███▉      | 1070/2720 [05:43<08:11,  3.36it/s]Setting `pad_token_id` to `eos_token_id`:50256 for open-end generation.\n 69%|██████▉   | 1870/2720 [10:04<04:12,  3.36it/s]Setting `pad_token_id` to `eos_token_id`:50256 for open-end generation.\n 98%|█████████▊| 2670/2720 [14:25<00:14,  3.36it/s]Setting `pad_token_id` to `eos_token_id`:50256 for open-end generation.\n 28%|██▊       | 750/2720 [03:46<09:46,  3.36it/s]Setting `pad_token_id` to `eos_token_id`:50256 for open-end generation.\n 57%|█████▋    | 1550/2720 [08:07<05:52,  3.32it/s]Setting `pad_token_id` to `eos_token_id`:50256 for open-end generation.\n 86%|████████▋ | 2350/2720 [12:27<01:50,  3.35it/s]Setting `pad_token_id` to `eos_token_id`:50256 for open-end generation.\n 16%|█▌        | 430/2720 [02:10<11:21,  3.36it/s]Setting `pad_token_id` to `eos_token_id`:50256 for open-end generation.\n 45%|████▌     | 1230/2720 [06:30<07:27,  3.33it/s]Setting `pad_token_id` to `eos_token_id`:50256 for open-end generation.\n 75%|███████▍  | 2030/2720 [10:50<03:27,  3.32it/s]Setting `pad_token_id` to `eos_token_id`:50256 for open-end generation.\n  4%|▍         | 110/2720 [00:33<12:58,  3.35it/s]Setting `pad_token_id` to `eos_token_id`:50256 for open-end generation.\n 33%|███▎      | 910/2720 [04:54<09:02,  3.34it/s]Setting `pad_token_id` to `eos_token_id`:50256 for open-end generation.\n 63%|██████▎   | 1710/2720 [09:14<05:00,  3.36it/s]Setting `pad_token_id` to `eos_token_id`:50256 for open-end generation.\n 92%|█████████▏| 2510/2720 [13:34<01:02,  3.35it/s]Setting `pad_token_id` to `eos_token_id`:50256 for open-end generation.\n 22%|██▏       | 590/2720 [02:58<10:35,  3.35it/s]Setting `pad_token_id` to `eos_token_id`:50256 for open-end generation.\n 51%|█████     | 1390/2720 [07:18<06:41,  3.31it/s]Setting `pad_token_id` to `eos_token_id`:50256 for open-end generation.\n 81%|████████  | 2190/2720 [11:38<02:38,  3.34it/s]Setting `pad_token_id` to `eos_token_id`:50256 for open-end generation.\n 10%|▉         | 270/2720 [01:21<12:13,  3.34it/s]Setting `pad_token_id` to `eos_token_id`:50256 for open-end generation.\n 39%|███▉      | 1070/2720 [05:42<08:11,  3.36it/s]Setting `pad_token_id` to `eos_token_id`:50256 for open-end generation.\n 69%|██████▉   | 1870/2720 [10:02<04:12,  3.37it/s]Setting `pad_token_id` to `eos_token_id`:50256 for open-end generation.\n 98%|█████████▊| 2670/2720 [14:23<00:15,  3.32it/s]Setting `pad_token_id` to `eos_token_id`:50256 for open-end generation.\n 28%|██▊       | 750/2720 [03:46<09:45,  3.37it/s]Setting `pad_token_id` to `eos_token_id`:50256 for open-end generation.\n 57%|█████▋    | 1550/2720 [08:08<05:51,  3.33it/s]Setting `pad_token_id` to `eos_token_id`:50256 for open-end generation.\n 86%|████████▋ | 2350/2720 [12:28<01:51,  3.33it/s]Setting `pad_token_id` to `eos_token_id`:50256 for open-end generation.\n 16%|█▌        | 430/2720 [02:10<11:26,  3.33it/s]Setting `pad_token_id` to `eos_token_id`:50256 for open-end generation.\n 45%|████▌     | 1230/2720 [06:32<07:25,  3.35it/s]Setting `pad_token_id` to `eos_token_id`:50256 for open-end generation.\n 75%|███████▍  | 2030/2720 [10:51<03:24,  3.37it/s]Setting `pad_token_id` to `eos_token_id`:50256 for open-end generation.\n  4%|▍         | 110/2720 [00:33<13:02,  3.33it/s]Setting `pad_token_id` to `eos_token_id`:50256 for open-end generation.\n 33%|███▎      | 910/2720 [04:54<09:08,  3.30it/s]Setting `pad_token_id` to `eos_token_id`:50256 for open-end generation.\n 63%|██████▎   | 1710/2720 [09:15<05:00,  3.36it/s]Setting `pad_token_id` to `eos_token_id`:50256 for open-end generation.\n 92%|█████████▏| 2510/2720 [13:36<01:03,  3.32it/s]Setting `pad_token_id` to `eos_token_id`:50256 for open-end generation.\n 22%|██▏       | 590/2720 [02:58<10:39,  3.33it/s]Setting `pad_token_id` to `eos_token_id`:50256 for open-end generation.\n 51%|█████     | 1390/2720 [07:20<06:35,  3.36it/s]Setting `pad_token_id` to `eos_token_id`:50256 for open-end generation.\n 81%|████████  | 2190/2720 [11:41<02:37,  3.36it/s]Setting `pad_token_id` to `eos_token_id`:50256 for open-end generation.\n 10%|▉         | 270/2720 [01:21<12:10,  3.35it/s]Setting `pad_token_id` to `eos_token_id`:50256 for open-end generation.\n 39%|███▉      | 1070/2720 [05:41<08:14,  3.34it/s]Setting `pad_token_id` to `eos_token_id`:50256 for open-end generation.\n 69%|██████▉   | 1870/2720 [10:02<04:15,  3.33it/s]Setting `pad_token_id` to `eos_token_id`:50256 for open-end generation.\n 98%|█████████▊| 2670/2720 [14:22<00:14,  3.36it/s]Setting `pad_token_id` to `eos_token_id`:50256 for open-end generation.\n                                                   \r"
        }
      ],
      "execution_count": 27,
      "metadata": {
        "gather": {
          "logged": 1633640022108
        }
      }
    },
    {
      "cell_type": "code",
      "source": [
        "batch_save_path = os.path.join(output_dir, 'batch', f\"gpt2_film_epoch_{epoch}_batch_{batch_iter}.bin\")\n",
        "state = {\n",
        "    'epoch': epoch,\n",
        "    'batch_iter': batch_iter,\n",
        "    'loss': sum_loss,\n",
        "    'model_state_dict': model.state_dict(),\n",
        "    'optimizer': optimizer.state_dict(),\n",
        "    'sample_texts' : sample_texts,\n",
        "    'scheduler' : scheduler.state_dict()\n",
        "}\n",
        "torch.save(state, batch_save_path)"
      ],
      "outputs": [],
      "execution_count": 65,
      "metadata": {
        "collapsed": true,
        "jupyter": {
          "source_hidden": false,
          "outputs_hidden": false
        },
        "nteract": {
          "transient": {
            "deleting": false
          }
        },
        "gather": {
          "logged": 1630253085449
        }
      }
    },
    {
      "cell_type": "markdown",
      "source": [
        "# Loading PyTorch GPT-2 Model from Last Pretrained Path"
      ],
      "metadata": {
        "nteract": {
          "transient": {
            "deleting": false
          }
        }
      }
    },
    {
      "cell_type": "code",
      "source": [
        "# Retrieve last pretrained model and convert to cuda tensors:\n",
        "batch_save_path = os.path.join(output_dir, 'batch', f\"gpt2_film_epoch_{epoch}_batch_{batch_iter}.bin\")\n",
        "state = torch.load(batch_save_path)\n",
        "model.load_state_dict(state['model_state_dict'])\n",
        "model.to(device)"
      ],
      "outputs": [],
      "execution_count": null,
      "metadata": {}
    },
    {
      "cell_type": "markdown",
      "source": [
        "# Saving Hugging Face Transformer Format"
      ],
      "metadata": {
        "nteract": {
          "transient": {
            "deleting": false
          }
        }
      }
    },
    {
      "cell_type": "code",
      "source": [
        "from transformers import WEIGHTS_NAME, CONFIG_NAME\n",
        "output_model_file = os.path.join(output_dir, WEIGHTS_NAME)\n",
        "output_config_file = os.path.join(output_dir, CONFIG_NAME)\n",
        "\n",
        "torch.save(model.state_dict(), output_model_file)\n",
        "model.config.to_json_file(output_config_file)\n",
        "tokenizer.save_vocabulary(output_dir)"
      ],
      "outputs": [
        {
          "output_type": "execute_result",
          "execution_count": 28,
          "data": {
            "text/plain": "('./storage/models/vocab.json', './storage/models/merges.txt')"
          },
          "metadata": {}
        }
      ],
      "execution_count": 28,
      "metadata": {
        "gather": {
          "logged": 1633640533121
        }
      }
    },
    {
      "cell_type": "markdown",
      "source": [
        "# Loading Hugging Face GPT-2 Model & Tokenizer from Last Pretrained Path"
      ],
      "metadata": {
        "nteract": {
          "transient": {
            "deleting": false
          }
        }
      }
    },
    {
      "cell_type": "code",
      "source": [
        "model = GPT2LMHeadModel.from_pretrained(output_dir)\n",
        "model.eval()\n",
        "tokenizer = GPT2Tokenizer.from_pretrained(output_dir)"
      ],
      "outputs": [],
      "execution_count": null,
      "metadata": {}
    },
    {
      "cell_type": "markdown",
      "source": [
        "#  Script Generation"
      ],
      "metadata": {
        "nteract": {
          "transient": {
            "deleting": false
          }
        }
      }
    },
    {
      "cell_type": "code",
      "source": [
        "input_ids = tokenizer.encode('         He kisses her softly in İstanbul.           ', return_tensors='pt').to(device)"
      ],
      "outputs": [],
      "execution_count": 14,
      "metadata": {
        "gather": {
          "logged": 1630255463460
        }
      }
    },
    {
      "cell_type": "code",
      "source": [
        "sample_outputs = model.generate(\n",
        "                        input_ids = input_ids.to(device),\n",
        "                        num_beams = 3,\n",
        "                        max_length = 1000,\n",
        "                        top_p=0.85, \n",
        "                        num_return_sequences=1,\n",
        "                )\n",
        "\n",
        "print(\"Output:\\n\" + 100 * '-')\n",
        "for i, sample_output in enumerate(sample_outputs):\n",
        "      print(\"{}: {}\".format(i, tokenizer.decode(sample_output, skip_special_tokens=True)))"
      ],
      "outputs": [
        {
          "output_type": "stream",
          "name": "stderr",
          "text": "Setting `pad_token_id` to `eos_token_id`:50256 for open-end generation.\n/anaconda/envs/azureml_py38/lib/python3.8/site-packages/torch/_tensor.py:575: UserWarning: floor_divide is deprecated, and will be removed in a future version of pytorch. It currently rounds toward 0 (like the 'trunc' function NOT 'floor'). This results in incorrect rounding for negative values.\nTo keep the current behavior, use torch.div(a, b, rounding_mode='trunc'), or for actual floor division, use torch.div(a, b, rounding_mode='floor'). (Triggered internally at  /opt/conda/conda-bld/pytorch_1623448234945/work/aten/src/ATen/native/BinaryOps.cpp:467.)\n  return torch.floor_divide(self, other)\n"
        },
        {
          "output_type": "stream",
          "name": "stdout",
          "text": "Output:\n----------------------------------------------------------------------------------------------------\n0:          He kisses her softly in İstanbul.                                                                                                                                                                                                                                                                                                                                                                                                                                                                                                                                                                                                                                                                                                                                                                                                                                                                                                                                                                                                                       \n"
        }
      ],
      "execution_count": 15,
      "metadata": {
        "gather": {
          "logged": 1630255538747
        }
      }
    },
    {
      "cell_type": "code",
      "source": [
        "def generate(model, tokenizer, input_text=None, num_samples=1, max_length=1000, device = torch.device('cuda:0')):\n",
        "    model.eval()\n",
        "    \n",
        "\n",
        "    if input_text:\n",
        "\n",
        "        input_ids = tokenizer.encode(input_text, return_tensors='pt')\n",
        "\n",
        "        if model.device.type == 'cuda':\n",
        "            input_ids = input_ids.to(device)\n",
        "            \n",
        "        output = model.generate(\n",
        "            input_ids= input_ids,\n",
        "            do_sample=True,   \n",
        "            top_k=50, \n",
        "            max_length = max_length,\n",
        "            top_p=0.95, \n",
        "            num_return_sequences= num_samples\n",
        "        )\n",
        "    else:\n",
        "        output = model.generate(\n",
        "            bos_token_id = random.randint(1,50000),\n",
        "            do_sample=True,   \n",
        "            top_k=50, \n",
        "            max_length = max_length,\n",
        "            top_p=0.95, \n",
        "            num_return_sequences=num_samples\n",
        "\n",
        "        )\n",
        "\n",
        "\n",
        "    decoded_output = []\n",
        "    for sample in output:\n",
        "        decoded_output.append(tokenizer.decode(\n",
        "            sample, skip_special_tokens=True))\n",
        "\n",
        "    return decoded_output\n",
        "\n",
        "def script_to_txt(file_name:str,  text:str) -> None:\n",
        "    if not file_name.endswith('.txt'):\n",
        "        file_name += '.txt'\n",
        "        \n",
        "    with open(file_name, \"w\") as f:\n",
        "        f.write(text)"
      ],
      "outputs": [],
      "execution_count": 37,
      "metadata": {
        "gather": {
          "logged": 1630256156048
        }
      }
    },
    {
      "cell_type": "code",
      "source": [
        "input_text = 'A lonely night in İstanbul, two haters walks around the city streets.'\n",
        "max_length = 100\n",
        "decoded_output = generate(model, tokenizer, input_text = input_text, num_samples=1, max_length=max_length)\n",
        "print(decoded_output[0])"
      ],
      "outputs": [
        {
          "output_type": "stream",
          "name": "stdout",
          "text": "A beautiful night in İstanbul, two lovers walk around the city streets.  It's \n               not unusual for me and your father to walk together \n               alone.\n\n\n                                      DYLE\n                           That, I guess, isn't too uncommon.\n\n                They walk down street, with their backs to her. She looks \n               past. He follows behind them and stops.\n\n\n                                      DYLE\n                               (To himself)\n                         This isn't just going on like that, \n                          it's not just \n                               (To her)\n                          That's just your father, that's you.\n\n               As they pass in front of him in front of \n               the street-view window, DYLE is still standing close \n               beside her, looking straight down at her.\n\n\n                                       BOB\n                          You're looking down at me, Dyle.\n\n\n                                       DYLE\n                          Well, of course.\n\n\n                                       BOB\n                           So you don't like it, then, and \n                        you're not married...\n\n                He kisses her, feeling his tongue through her mouth.  She \n               opens her mouth and then closes it again. He's fascinated \n             by the way her breath comes through her mouth. He's moved \n                       past this point and can see her mouth. He's \n                       drawn in, his eyes follow her every movement of \n                      body.\n\n\n                                  DYLE\n                                (To\n"
        }
      ],
      "execution_count": 20,
      "metadata": {
        "collapsed": true,
        "jupyter": {
          "source_hidden": false,
          "outputs_hidden": false
        },
        "nteract": {
          "transient": {
            "deleting": false
          }
        },
        "gather": {
          "logged": 1630255595304
        }
      }
    }
  ],
  "metadata": {
    "environment": {
      "name": "pytorch-gpu.1-9.m75",
      "type": "gcloud",
      "uri": "gcr.io/deeplearning-platform-release/pytorch-gpu.1-9:m75"
    },
    "kernelspec": {
      "name": "python38-azureml",
      "language": "python",
      "display_name": "Python 3.8 - AzureML"
    },
    "kernel_info": {
      "name": "python38-azureml"
    },
    "nteract": {
      "version": "nteract-front-end@1.0.0"
    },
    "language_info": {
      "name": "python",
      "version": "3.8.1",
      "mimetype": "text/x-python",
      "codemirror_mode": {
        "name": "ipython",
        "version": 3
      },
      "pygments_lexer": "ipython3",
      "nbconvert_exporter": "python",
      "file_extension": ".py"
    },
    "microsoft": {
      "host": {
        "AzureML": {
          "notebookHasBeenCompleted": true
        }
      }
    }
  },
  "nbformat": 4,
  "nbformat_minor": 4
}